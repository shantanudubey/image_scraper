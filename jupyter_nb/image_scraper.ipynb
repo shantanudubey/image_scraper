{
 "cells": [
  {
   "cell_type": "markdown",
   "metadata": {},
   "source": [
    "# Image Scraper Project"
   ]
  },
  {
   "cell_type": "code",
   "execution_count": 1,
   "metadata": {},
   "outputs": [
    {
     "name": "stdout",
     "output_type": "stream",
     "text": [
      "Image Scraper    : Init\n"
     ]
    }
   ],
   "source": [
    "import requests\n",
    "import logging\n",
    "import os\n",
    "from bs4 import BeautifulSoup\n",
    "from urllib.request import urlopen\n",
    "\n",
    "\n",
    "print(\"Image Scraper    : Init\")"
   ]
  },
  {
   "cell_type": "code",
   "execution_count": 2,
   "metadata": {},
   "outputs": [],
   "source": [
    "image_dir = \"../assets/images/\"\n",
    "\n",
    "if not (os.path.exists(image_dir)):\n",
    "    os.makedirs(image_dir)"
   ]
  },
  {
   "cell_type": "code",
   "execution_count": 3,
   "metadata": {},
   "outputs": [
    {
     "name": "stdout",
     "output_type": "stream",
     "text": [
      "<Response [200]>\n"
     ]
    }
   ],
   "source": [
    "query = \"Thar\"\n",
    "url = f\"https://www.google.com/search?q={query}&tbm=isch&ved=2ahUKEwj77fvny7WAAxU8_zgGHRH1AjQQ2-cCegQIABAA&oq=Jimny&gs_lcp=CgNpbWcQAzILCAAQgAQQsQMQgwEyCwgAEIAEELEDEIMBMgcIABCKBRBDMgsIABCABBCxAxCDATIHCAAQigUQQzINCAAQigUQsQMQgwEQQzILCAAQgAQQsQMQgwEyBAgAEAMyCwgAEIAEELEDEIMBMgsIABCABBCxAxCDAToICAAQgAQQsQM6BQgAEIAEOggIABCxAxCDAToKCAAQigUQsQMQQ1DTEVjBKGD7K2gAcAB4AIABsgGIAdkHkgEDMC42mAEAoAEBqgELZ3dzLXdpei1pbWfAAQE&sclient=img&ei=zebFZLvTBbz-4-EPkeqLoAM&bih=927&biw=1920&client=firefox-b-d\"\n",
    "response = requests.get(url=url)\n",
    "print(response)"
   ]
  },
  {
   "cell_type": "code",
   "execution_count": 4,
   "metadata": {},
   "outputs": [
    {
     "name": "stdout",
     "output_type": "stream",
     "text": [
      "<!DOCTYPE html PUBLIC \"-//WAPFORUM//DTD XHTML Mobile 1.0//EN\" \"http://www.wapforum.org/DTD/xhtml-mobile10.dtd\">\n",
      "<html lang=\"en-IN\" xmlns=\"http://www.w3.org/1999/xhtml\"><head><meta content=\"application/xhtml+xml; charset=utf-8\" http-equiv=\"Content-Type\"/><meta content=\"no-cache\" name=\"Cache-Control\"/><title>Jimny - Google Search</title><style>a{text-decoration:none;color:inherit}a:hover{text-decoration:underline}a img{border:0}body{font-family:arial,sans-serif;padding:8px;margin:0 auto;max-width:700px;min-width:240px;}.FbhRzb{border-left:thin solid #dadce0;border-right:thin solid #dadce0;border-top:thin solid #dadce0;height:40px;overflow:hidden}.n692Zd{margin-bottom:10px}.cvifge{height:40px;border-spacing:0}.QvGUP{height:40px;padding:0 8px 0 8px;vertical-align:top}.O4cRJf{height:40px;width:100%;padding:0;padding-right:16px}.O1ePr{height:40px;padding:0;vertical-align:top}.kgJEQe{height:36px;width:98px;vertical-align:top;margin-top:4px}.lXLRf{vertical-align:top}.MhzMZd{border:0;vertical-align:middle;font-size:14px;height:40px;padding:0;width:100%;padding-left:16px}.xB0fq{height:40px;border:none;font-size:14px;background-color:#1a73e8;color:#fff;padding:0 16px;margin:0;vertical-align:top;cursor:pointer}.xB0fq:focus{border:1px solid #1a73e8}.M7pB2{border:thin solid #dadce0;margin:0 0 3px 0;font-size:13px;font-weight:500;height:40px}.euZec{width:100%;height:40px;text-align:center;border-spacing:0}table.euZec td{padding:0;width:25%}.QIqI7{display:inline-block;padding-top:4px;font-weight:bold;color:#4285f4}.EY24We{border-bottom:2px solid #4285f4}.CsQyDc{display:inline-block;color:#70757a}.TuS8Ad{font-size:14px}.HddGcc{padding:8px;color:#70757a}.dzp8ae{font-weight:bold;color:#3c4043}.rEM8G{color:#70757a}.bookcf{table-layout:fixed;width:100%;border-spacing:0}.InWNIe{text-align:center}.uZgmoc{border:thin solid #dadce0;color:#70757a;font-size:14px;text-align:center;table-layout:fixed;width:100%}.frGj1b{display:block;padding:12px 0 12px 0;width:100%}.BnJWBc{text-align:center;padding:6px 0 13px 0;height:35px}.e3goi{vertical-align:top;padding:0;height:180px}.GpQGbf{margin:auto;border-collapse:collapse;border-spacing:0;width:100%}</style></head><body><style>.X6ZCif{color:#202124;font-size:11px;line-height:16px;display:inline-block;padding-top:2px;overflow:hidden;padding-bottom:4px;width:100%}.TwVfHd{border-radius:16px;border:thin solid #dadce0;display:inline-block;padding:8px 8px;margin-right:8px;margin-bottom:4px}.yekiAe{background-color:#dadce0}.mnTahd{width:100%}.ezO2md{border:thin solid #dadce0;padding:12px 16px 12px 16px;margin-bottom:10px;font-family:arial,sans-serif}.lIMUZd{font-family:arial,sans-serif}.IkMU6e{border-spacing:0}.SjCsie{width:100%}.EnarA{text-align:center}.NZWO1b{width:162px;height:140px;line-height:140px;overflow:'hidden';text-align:center}.yWs4tf{text-align:center;margin:auto;vertical-align:middle;max-width:162px;max-height:140px}.jB2rPd{padding-top:2px;padding-bottom:8px;}.fYyStc{word-break:break-word}.ynsChf{display:block;white-space:nowrap;overflow:hidden;text-overflow:ellipsis}.Fj3V3b{color:#1967d2;font-size:14px;line-height:20px}.FrIlee{color:#202124;font-size:11px;line-height:16px}.F9iS2e{color:#70757a;font-size:11px;line-height:16px}.WMQ2Le{color:#70757a;font-size:12px;line-height:16px}.x3G5ab{color:#202124;font-size:12px;line-height:16px}.fuLhoc{color:#1967d2;font-size:16px;line-height:20px}.epoveb{font-size:24px;line-height:28px;font-weight:400;color:#202124}.dXDvrc{color:#0d652d;font-size:14px;line-height:20px;word-wrap:break-word}.dloBPe{font-weight:bold}.YVIcad{color:#70757a}.JkVVdd{color:#ea4335}.oXZRFd{color:#ea4335}.MQHtg{color:#fbbc04}.pyMRrb{color:#1e8e3e}.EtTZid{color:#1e8e3e}.M3vVJe{color:#1967d2}.qXLe6d{display:block}.NHQNef{font-style:italic}.Cb8Z7c{white-space:pre}a.ZWRArf{text-decoration:none}a .CVA68e:hover{text-decoration:underline}</style><div class=\"n692Zd\"><div class=\"BnJWBc\"><a class=\"lXLRf\" href=\"/?client=firefox-b-d&amp;bih=927&amp;biw=1920&amp;output=images&amp;ie=UTF-8&amp;tbm=isch&amp;sa=X&amp;ved=0ahUKEwjM-pP3isaAAxV3hVYBHWLSCNIQPAgC\"><img alt=\"Google\" class=\"kgJEQe\" src=\"/images/branding/searchlogo/1x/googlelogo_desk_heirloom_color_150x55dp.gif\"/></a></div><div class=\"FbhRzb\"><form action=\"/search\"><input name=\"client\" type=\"hidden\" value=\"firefox-b-d\"/><input name=\"bih\" type=\"hidden\" value=\"927\"/><input name=\"biw\" type=\"hidden\" value=\"1920\"/><input name=\"ie\" type=\"hidden\" value=\"ISO-8859-1\"/><input name=\"tbm\" type=\"hidden\" value=\"isch\"/><input name=\"oq\" type=\"hidden\"/><input name=\"aqs\" type=\"hidden\"/><table class=\"cvifge\"><tr><td class=\"O4cRJf\"><input class=\"MhzMZd\" name=\"q\" type=\"text\" value=\"Jimny\"/></td><td class=\"O1ePr\"><input class=\"xB0fq\" type=\"submit\" value=\"Search\"/></td></tr></table></form></div><div class=\"M7pB2\"><table class=\"euZec\"><tbody><tr><td><a class=\"CsQyDc\" href=\"/search?q=Jimny&amp;client=firefox-b-d&amp;bih=927&amp;biw=1920&amp;ie=UTF-8&amp;source=lnms&amp;sa=X&amp;ved=0ahUKEwjM-pP3isaAAxV3hVYBHWLSCNIQ_AUIBCgA\">ALL</a></td><td class=\"EY24We\"><span class=\"QIqI7\">IMAGES</span></td><td><a class=\"CsQyDc\" href=\"/search?q=Jimny&amp;client=firefox-b-d&amp;bih=927&amp;biw=1920&amp;ie=UTF-8&amp;tbm=nws&amp;source=lnms&amp;sa=X&amp;ved=0ahUKEwjM-pP3isaAAxV3hVYBHWLSCNIQ_AUIBigC\">NEWS</a></td><td><a class=\"CsQyDc\" href=\"/search?q=Jimny&amp;client=firefox-b-d&amp;bih=927&amp;biw=1920&amp;ie=UTF-8&amp;tbm=vid&amp;source=lnms&amp;sa=X&amp;ved=0ahUKEwjM-pP3isaAAxV3hVYBHWLSCNIQ_AUIBygD\">VIDEOS</a></td></tr></tbody></table></div></div><div class=\"X6ZCif\"><a class=\"TwVfHd\" href=\"/search?client=firefox-b-d&amp;bih=927&amp;biw=1920&amp;ie=UTF-8&amp;tbm=isch&amp;q=Jimny&amp;chips=q:jimny,g_1:interior&amp;sa=X&amp;ved=0ahUKEwjM-pP3isaAAxV3hVYBHWLSCNIQ4lYICygA\">interior</a><a class=\"TwVfHd\" href=\"/search?client=firefox-b-d&amp;bih=927&amp;biw=1920&amp;ie=UTF-8&amp;tbm=isch&amp;q=Jimny&amp;chips=q:jimny,g_1:modified&amp;sa=X&amp;ved=0ahUKEwjM-pP3isaAAxV3hVYBHWLSCNIQ4lYIDCgB\">modified</a><a class=\"TwVfHd\" href=\"/search?client=firefox-b-d&amp;bih=927&amp;biw=1920&amp;ie=UTF-8&amp;tbm=isch&amp;q=Jimny&amp;chips=q:jimny,g_1:off+road&amp;sa=X&amp;ved=0ahUKEwjM-pP3isaAAxV3hVYBHWLSCNIQ4lYIDSgC\">off road</a><a class=\"TwVfHd\" href=\"/search?client=firefox-b-d&amp;bih=927&amp;biw=1920&amp;ie=UTF-8&amp;tbm=isch&amp;q=Jimny&amp;chips=q:jimny,g_1:suzuki&amp;sa=X&amp;ved=0ahUKEwjM-pP3isaAAxV3hVYBHWLSCNIQ4lYIDigD\">suzuki</a><a class=\"TwVfHd\" href=\"/search?client=firefox-b-d&amp;bih=927&amp;biw=1920&amp;ie=UTF-8&amp;tbm=isch&amp;q=Jimny&amp;chips=q:jimny,g_1:jeep&amp;sa=X&amp;ved=0ahUKEwjM-pP3isaAAxV3hVYBHWLSCNIQ4lYIDygE\">jeep</a><a class=\"TwVfHd\" href=\"/search?client=firefox-b-d&amp;bih=927&amp;biw=1920&amp;ie=UTF-8&amp;tbm=isch&amp;q=Jimny&amp;chips=q:jimny,g_1:car&amp;sa=X&amp;ved=0ahUKEwjM-pP3isaAAxV3hVYBHWLSCNIQ4lYIECgF\">car</a><a class=\"TwVfHd\" href=\"/search?client=firefox-b-d&amp;bih=927&amp;biw=1920&amp;ie=UTF-8&amp;tbm=isch&amp;q=Jimny&amp;chips=q:jimny,g_1:liberty+walk&amp;sa=X&amp;ved=0ahUKEwjM-pP3isaAAxV3hVYBHWLSCNIQ4lYIESgG\">liberty walk</a><a class=\"TwVfHd\" href=\"/search?client=firefox-b-d&amp;bih=927&amp;biw=1920&amp;ie=UTF-8&amp;tbm=isch&amp;q=Jimny&amp;chips=q:jimny,g_1:maruti+suzuki&amp;sa=X&amp;ved=0ahUKEwjM-pP3isaAAxV3hVYBHWLSCNIQ4lYIEigH\">maruti suzuki</a><a class=\"TwVfHd\" href=\"/search?client=firefox-b-d&amp;bih=927&amp;biw=1920&amp;ie=UTF-8&amp;tbm=isch&amp;q=Jimny&amp;chips=q:jimny,g_1:custom&amp;sa=X&amp;ved=0ahUKEwjM-pP3isaAAxV3hVYBHWLSCNIQ4lYIEygI\">custom</a><a class=\"TwVfHd\" href=\"/search?client=firefox-b-d&amp;bih=927&amp;biw=1920&amp;ie=UTF-8&amp;tbm=isch&amp;q=Jimny&amp;chips=q:jimny,g_1:g+class&amp;sa=X&amp;ved=0ahUKEwjM-pP3isaAAxV3hVYBHWLSCNIQ4lYIFCgJ\">g class</a></div><div><table class=\"GpQGbf\"><tr><td align=\"center\" class=\"e3goi\"><div class=\"mnTahd\"> <div> <div class=\"lIMUZd\"><div><table class=\"IkMU6e\"><tr><td><a href=\"/url?q=https://www.carwale.com/maruti-suzuki-cars/jimny/&amp;sa=U&amp;ved=2ahUKEwjM-pP3isaAAxV3hVYBHWLSCNIQqoUBegQIAhAB&amp;usg=AOvVaw13mWy9JYwLL42_zkLVpRWY\"><div class=\"NZWO1b\"><img alt=\"\" class=\"yWs4tf\" src=\"https://encrypted-tbn0.gstatic.com/images?q=tbn:ANd9GcQKP_Pq06jL3pSB2BGezLPEZ3SPyZg2HXHiIDXSPSlXaLvzarcdHTYTFM0v9zk&amp;s\"/></div></a></td></tr><tr><td><a href=\"/url?q=https://www.carwale.com/maruti-suzuki-cars/jimny/&amp;sa=U&amp;ved=2ahUKEwjM-pP3isaAAxV3hVYBHWLSCNIQr4kDegQIAhAC&amp;usg=AOvVaw2VlQhiFE6SQfJaigD9SKIE\"><div class=\"jB2rPd\"> <span class=\"qXLe6d x3G5ab\"> <span class=\"fYyStc\">Maruti Jimny Price -...</span> </span> <span class=\"qXLe6d F9iS2e\"> <span class=\"fYyStc\">www.carwale.com</span> </span> </div></a></td></tr></table></div></div> </div> </div></td><td align=\"center\" class=\"e3goi\"><div class=\"mnTahd\"> <div> <div class=\"lIMUZd\"><div><table class=\"IkMU6e\"><tr><td><a href=\"/url?q=https://www.cartrade.com/maruti-suzuki-cars/jimny/&amp;sa=U&amp;ved=2ahUKEwjM-pP3isaAAxV3hVYBHWLSCNIQqoUBegQIExAB&amp;usg=AOvVaw2BAlrtfPJEa9C8o-VMSFdv\"><div class=\"NZWO1b\"><img alt=\"\" class=\"yWs4tf\" src=\"https://encrypted-tbn0.gstatic.com/images?q=tbn:ANd9GcS3Jt7c-YG4VlNMQxtwcLjTCTzZAFZEgS3a1Y_DX9ZlqQqm1lGy_XVuWBYQqw&amp;s\"/></div></a></td></tr><tr><td><a href=\"/url?q=https://www.cartrade.com/maruti-suzuki-cars/jimny/&amp;sa=U&amp;ved=2ahUKEwjM-pP3isaAAxV3hVYBHWLSCNIQr4kDegQIExAC&amp;usg=AOvVaw0N5JiiG3mDS9uSRZn9HJcL\"><div class=\"jB2rPd\"> <span class=\"qXLe6d x3G5ab\"> <span class=\"fYyStc\">Maruti Jimny - Jimny Price,...</span> </span> <span class=\"qXLe6d F9iS2e\"> <span class=\"fYyStc\">www.cartrade.com</span> </span> </div></a></td></tr></table></div></div> </div> </div></td><td align=\"center\" class=\"e3goi\"><div class=\"mnTahd\"> <div> <div class=\"lIMUZd\"><div><table class=\"IkMU6e\"><tr><td><a href=\"/url?q=https://auto.hindustantimes.com/auto/cars/check-out-suzuki-jimny-special-heritage-edition-only-300-up-for-grabs-globally-41677838217296.html&amp;sa=U&amp;ved=2ahUKEwjM-pP3isaAAxV3hVYBHWLSCNIQqoUBegQIEhAB&amp;usg=AOvVaw2HZFlrR7qH1jhA-xnesUdU\"><div class=\"NZWO1b\"><img alt=\"\" class=\"yWs4tf\" src=\"https://encrypted-tbn0.gstatic.com/images?q=tbn:ANd9GcQuePk56aNvsgmaVt9cV_quFZhnb1jbRlr0SMcYk449_6ad7ZXyReE4sMPDVQ&amp;s\"/></div></a></td></tr><tr><td><a href=\"/url?q=https://auto.hindustantimes.com/auto/cars/check-out-suzuki-jimny-special-heritage-edition-only-300-up-for-grabs-globally-41677838217296.html&amp;sa=U&amp;ved=2ahUKEwjM-pP3isaAAxV3hVYBHWLSCNIQr4kDegQIEhAC&amp;usg=AOvVaw3cQfrU70v85Gxr4I1aICs_\"><div class=\"jB2rPd\"> <span class=\"qXLe6d x3G5ab\"> <span class=\"fYyStc\">Check out Suzuki Jimny...</span> </span> <span class=\"qXLe6d F9iS2e\"> <span class=\"fYyStc\">auto.hindustantimes.com</span> </span> </div></a></td></tr></table></div></div> </div> </div></td><td align=\"center\" class=\"e3goi\"><div class=\"mnTahd\"> <div> <div class=\"lIMUZd\"><div><table class=\"IkMU6e\"><tr><td><a href=\"/url?q=https://www.autocarindia.com/car-reviews/suzuki%2520jimny%2520review:%2520turns%2520more%2520heads%2520than%2520a%2520supercar-425483&amp;sa=U&amp;ved=2ahUKEwjM-pP3isaAAxV3hVYBHWLSCNIQqoUBegQIERAB&amp;usg=AOvVaw1GFJgByeejUa7B3tuq6aQv\"><div class=\"NZWO1b\"><img alt=\"\" class=\"yWs4tf\" src=\"https://encrypted-tbn0.gstatic.com/images?q=tbn:ANd9GcS-cCsUbNxjR0USkOQvhKcMQLJRrHhrP5Y0sVlnLbqo4D35QEkOEO0RG38WAQ&amp;s\"/></div></a></td></tr><tr><td><a href=\"/url?q=https://www.autocarindia.com/car-reviews/suzuki%2520jimny%2520review:%2520turns%2520more%2520heads%2520than%2520a%2520supercar-425483&amp;sa=U&amp;ved=2ahUKEwjM-pP3isaAAxV3hVYBHWLSCNIQr4kDegQIERAC&amp;usg=AOvVaw2FgNC3LoS_X6LTRl5qNssm\"><div class=\"jB2rPd\"> <span class=\"qXLe6d x3G5ab\"> <span class=\"fYyStc\">Suzuki Jimny SUV first...</span> </span> <span class=\"qXLe6d F9iS2e\"> <span class=\"fYyStc\">www.autocarindia.com</span> </span> </div></a></td></tr></table></div></div> </div> </div></td></tr><tr><td align=\"center\" class=\"e3goi\"><div class=\"mnTahd\"> <div> <div class=\"lIMUZd\"><div><table class=\"IkMU6e\"><tr><td><a href=\"/url?q=https://zeenews.india.com/auto/modified-maruti-suzuki-jimny-with-lift-kit-20-rims-is-everything-and-badass-watch-2623575.html&amp;sa=U&amp;ved=2ahUKEwjM-pP3isaAAxV3hVYBHWLSCNIQqoUBegQIEBAB&amp;usg=AOvVaw3_1yXR3lNy-yzZlqYfmdmF\"><div class=\"NZWO1b\"><img alt=\"\" class=\"yWs4tf\" src=\"https://encrypted-tbn0.gstatic.com/images?q=tbn:ANd9GcS7E21XohAEr_G_unt0Z7ABKQpnahsntC2EnAa0R6MKQ-D7gVg-bWhweSE4ZrQ&amp;s\"/></div></a></td></tr><tr><td><a href=\"/url?q=https://zeenews.india.com/auto/modified-maruti-suzuki-jimny-with-lift-kit-20-rims-is-everything-and-badass-watch-2623575.html&amp;sa=U&amp;ved=2ahUKEwjM-pP3isaAAxV3hVYBHWLSCNIQr4kDegQIEBAC&amp;usg=AOvVaw1kbgdINW68ksR3tW-v5goN\"><div class=\"jB2rPd\"> <span class=\"qXLe6d x3G5ab\"> <span class=\"fYyStc\">Modified Maruti Suzuki...</span> </span> <span class=\"qXLe6d F9iS2e\"> <span class=\"fYyStc\">zeenews.india.com</span> </span> </div></a></td></tr></table></div></div> </div> </div></td><td align=\"center\" class=\"e3goi\"><div class=\"mnTahd\"> <div> <div class=\"lIMUZd\"><div><table class=\"IkMU6e\"><tr><td><a href=\"/url?q=https://www.carwale.com/maruti-suzuki-cars/jimny/&amp;sa=U&amp;ved=2ahUKEwjM-pP3isaAAxV3hVYBHWLSCNIQqoUBegQIDBAB&amp;usg=AOvVaw3JZA1_MEpAb083LtUnQd7g\"><div class=\"NZWO1b\"><img alt=\"\" class=\"yWs4tf\" src=\"https://encrypted-tbn0.gstatic.com/images?q=tbn:ANd9GcRq_CnO6ADQ25wnNiO1hvaYQwKBFWaP7T9r2K4Z1RK5O_mU7snaxBWrcjlBcQ&amp;s\"/></div></a></td></tr><tr><td><a href=\"/url?q=https://www.carwale.com/maruti-suzuki-cars/jimny/&amp;sa=U&amp;ved=2ahUKEwjM-pP3isaAAxV3hVYBHWLSCNIQr4kDegQIDBAC&amp;usg=AOvVaw1tDEKbfMj1FXBo3OkJqy4Z\"><div class=\"jB2rPd\"> <span class=\"qXLe6d x3G5ab\"> <span class=\"fYyStc\">Maruti Jimny Price -...</span> </span> <span class=\"qXLe6d F9iS2e\"> <span class=\"fYyStc\">www.carwale.com</span> </span> </div></a></td></tr></table></div></div> </div> </div></td><td align=\"center\" class=\"e3goi\"><div class=\"mnTahd\"> <div> <div class=\"lIMUZd\"><div><table class=\"IkMU6e\"><tr><td><a href=\"/url?q=https://m.timesofindia.com/auto/cars/india-exported-maruti-suzuki-jimny-to-get-this-adas-feature-in-australia-heres-what-and-why/articleshow/101359021.cms&amp;sa=U&amp;ved=2ahUKEwjM-pP3isaAAxV3hVYBHWLSCNIQqoUBegQICRAB&amp;usg=AOvVaw0TAslYxtn4lMZk-ep1En-C\"><div class=\"NZWO1b\"><img alt=\"\" class=\"yWs4tf\" src=\"https://encrypted-tbn0.gstatic.com/images?q=tbn:ANd9GcQDWPUqXGMTH8B-TdvlJaefTxyMa2AaxMXtDGcEDUYi9-vfm-Rer1EXkA4xsg&amp;s\"/></div></a></td></tr><tr><td><a href=\"/url?q=https://m.timesofindia.com/auto/cars/india-exported-maruti-suzuki-jimny-to-get-this-adas-feature-in-australia-heres-what-and-why/articleshow/101359021.cms&amp;sa=U&amp;ved=2ahUKEwjM-pP3isaAAxV3hVYBHWLSCNIQr4kDegQICRAC&amp;usg=AOvVaw0KgINQqRfahB_bEYl6H2G5\"><div class=\"jB2rPd\"> <span class=\"qXLe6d x3G5ab\"> <span class=\"fYyStc\">India-exported Maruti...</span> </span> <span class=\"qXLe6d F9iS2e\"> <span class=\"fYyStc\">m.timesofindia.com</span> </span> </div></a></td></tr></table></div></div> </div> </div></td><td align=\"center\" class=\"e3goi\"><div class=\"mnTahd\"> <div> <div class=\"lIMUZd\"><div><table class=\"IkMU6e\"><tr><td><a href=\"/url?q=https://www.cartrade.com/maruti-suzuki-cars/jimny/images/&amp;sa=U&amp;ved=2ahUKEwjM-pP3isaAAxV3hVYBHWLSCNIQqoUBegQIDRAB&amp;usg=AOvVaw15s7q93_Gu2pizsi5SbRtr\"><div class=\"NZWO1b\"><img alt=\"\" class=\"yWs4tf\" src=\"https://encrypted-tbn0.gstatic.com/images?q=tbn:ANd9GcSqBr254MD-QpFnoi3n2221kfHEadN7Ihz0ZlNfLRwWKBI5UPikfdUfk2Xy_JU&amp;s\"/></div></a></td></tr><tr><td><a href=\"/url?q=https://www.cartrade.com/maruti-suzuki-cars/jimny/images/&amp;sa=U&amp;ved=2ahUKEwjM-pP3isaAAxV3hVYBHWLSCNIQr4kDegQIDRAC&amp;usg=AOvVaw381sHY00Ga-B8A2lsG8eRy\"><div class=\"jB2rPd\"> <span class=\"qXLe6d x3G5ab\"> <span class=\"fYyStc\">Maruti Suzuki Jimny Images...</span> </span> <span class=\"qXLe6d F9iS2e\"> <span class=\"fYyStc\">www.cartrade.com</span> </span> </div></a></td></tr></table></div></div> </div> </div></td></tr><tr><td align=\"center\" class=\"e3goi\"><div class=\"mnTahd\"> <div> <div class=\"lIMUZd\"><div><table class=\"IkMU6e\"><tr><td><a href=\"/url?q=https://www.cardekho.com/maruti/jimny&amp;sa=U&amp;ved=2ahUKEwjM-pP3isaAAxV3hVYBHWLSCNIQqoUBegQIDxAB&amp;usg=AOvVaw1fz-15XFWU6y4RHxfCYKDy\"><div class=\"NZWO1b\"><img alt=\"\" class=\"yWs4tf\" src=\"https://encrypted-tbn0.gstatic.com/images?q=tbn:ANd9GcSzwGo0QHXtn_bPEmqxFxOyi2fCBe-XsVKuzNhVHJULAblhT8Mac3G3Xp8RFA&amp;s\"/></div></a></td></tr><tr><td><a href=\"/url?q=https://www.cardekho.com/maruti/jimny&amp;sa=U&amp;ved=2ahUKEwjM-pP3isaAAxV3hVYBHWLSCNIQr4kDegQIDxAC&amp;usg=AOvVaw3ZQJKSnf35t2aj1oEI3bNT\"><div class=\"jB2rPd\"> <span class=\"qXLe6d x3G5ab\"> <span class=\"fYyStc\">Maruti Jimny Price 2023,...</span> </span> <span class=\"qXLe6d F9iS2e\"> <span class=\"fYyStc\">www.cardekho.com</span> </span> </div></a></td></tr></table></div></div> </div> </div></td><td align=\"center\" class=\"e3goi\"><div class=\"mnTahd\"> <div> <div class=\"lIMUZd\"><div><table class=\"IkMU6e\"><tr><td><a href=\"/url?q=https://www.news18.com/auto/this-modified-maruti-suzuki-jimny-looks-set-to-destroy-anything-on-the-road-7341835.html&amp;sa=U&amp;ved=2ahUKEwjM-pP3isaAAxV3hVYBHWLSCNIQqoUBegQIDhAB&amp;usg=AOvVaw3PdAO7HAp6AP9kp8wr2nQ5\"><div class=\"NZWO1b\"><img alt=\"\" class=\"yWs4tf\" src=\"https://encrypted-tbn0.gstatic.com/images?q=tbn:ANd9GcRuM9Zuc3OVmkdTlX7JPYo6Lf-AZe3yAxgu3skICumq0407E6fB115bE53IuQ&amp;s\"/></div></a></td></tr><tr><td><a href=\"/url?q=https://www.news18.com/auto/this-modified-maruti-suzuki-jimny-looks-set-to-destroy-anything-on-the-road-7341835.html&amp;sa=U&amp;ved=2ahUKEwjM-pP3isaAAxV3hVYBHWLSCNIQr4kDegQIDhAC&amp;usg=AOvVaw0nqZ307VAc3msRAVXF5UsP\"><div class=\"jB2rPd\"> <span class=\"qXLe6d x3G5ab\"> <span class=\"fYyStc\">This Modified Maruti Suzuki...</span> </span> <span class=\"qXLe6d F9iS2e\"> <span class=\"fYyStc\">www.news18.com</span> </span> </div></a></td></tr></table></div></div> </div> </div></td><td align=\"center\" class=\"e3goi\"><div class=\"mnTahd\"> <div> <div class=\"lIMUZd\"><div><table class=\"IkMU6e\"><tr><td><a href=\"/url?q=https://www.91wheels.com/cars/maruti/jimny/images&amp;sa=U&amp;ved=2ahUKEwjM-pP3isaAAxV3hVYBHWLSCNIQqoUBegQIChAB&amp;usg=AOvVaw3DJ2JyXVgMcwVwhEqgXkpx\"><div class=\"NZWO1b\"><img alt=\"\" class=\"yWs4tf\" src=\"https://encrypted-tbn0.gstatic.com/images?q=tbn:ANd9GcSUoYdqZXz7OmRpqU_cZBY6bmCwN84HRgoyyDts3ct4n2NmmTnua9ncLs5mrg8&amp;s\"/></div></a></td></tr><tr><td><a href=\"/url?q=https://www.91wheels.com/cars/maruti/jimny/images&amp;sa=U&amp;ved=2ahUKEwjM-pP3isaAAxV3hVYBHWLSCNIQr4kDegQIChAC&amp;usg=AOvVaw1orxDgvcWJPQX7l-2e07fr\"><div class=\"jB2rPd\"> <span class=\"qXLe6d x3G5ab\"> <span class=\"fYyStc\">Maruti Jimny Images - Jimny...</span> </span> <span class=\"qXLe6d F9iS2e\"> <span class=\"fYyStc\">www.91wheels.com</span> </span> </div></a></td></tr></table></div></div> </div> </div></td><td align=\"center\" class=\"e3goi\"><div class=\"mnTahd\"> <div> <div class=\"lIMUZd\"><div><table class=\"IkMU6e\"><tr><td><a href=\"/url?q=https://www.autocarindia.com/cars/maruti-suzuki/jimny&amp;sa=U&amp;ved=2ahUKEwjM-pP3isaAAxV3hVYBHWLSCNIQqoUBegQICxAB&amp;usg=AOvVaw0eC5nbNvRWPI0UfuuUsZlb\"><div class=\"NZWO1b\"><img alt=\"\" class=\"yWs4tf\" src=\"https://encrypted-tbn0.gstatic.com/images?q=tbn:ANd9GcSZH2wgQVysB9-bsLZR1JqxQNoVxyqrTkVfIaVxYofAihJIhaiXXuO7idZRlg&amp;s\"/></div></a></td></tr><tr><td><a href=\"/url?q=https://www.autocarindia.com/cars/maruti-suzuki/jimny&amp;sa=U&amp;ved=2ahUKEwjM-pP3isaAAxV3hVYBHWLSCNIQr4kDegQICxAC&amp;usg=AOvVaw3-5WDRQFy89BVOBCuessZS\"><div class=\"jB2rPd\"> <span class=\"qXLe6d x3G5ab\"> <span class=\"fYyStc\">Maruti Jimny price, launch,...</span> </span> <span class=\"qXLe6d F9iS2e\"> <span class=\"fYyStc\">www.autocarindia.com</span> </span> </div></a></td></tr></table></div></div> </div> </div></td></tr><tr><td align=\"center\" class=\"e3goi\"><div class=\"mnTahd\"> <div> <div class=\"lIMUZd\"><div><table class=\"IkMU6e\"><tr><td><a href=\"/url?q=https://www.timesnownews.com/auto/car-news/maruti-suzuki-jimny-5-door-rendered-to-like-suv-of-your-wildest-dreams-article-100864341&amp;sa=U&amp;ved=2ahUKEwjM-pP3isaAAxV3hVYBHWLSCNIQqoUBegQICBAB&amp;usg=AOvVaw2ZDlhtYsbJskBaIiZNf4i9\"><div class=\"NZWO1b\"><img alt=\"\" class=\"yWs4tf\" src=\"https://encrypted-tbn0.gstatic.com/images?q=tbn:ANd9GcRp9j4ESRFfLQI-MP4NGJVXrlf1HBCTu7s_SGLJcGNDq8bdR8IXCYDO95OOcA&amp;s\"/></div></a></td></tr><tr><td><a href=\"/url?q=https://www.timesnownews.com/auto/car-news/maruti-suzuki-jimny-5-door-rendered-to-like-suv-of-your-wildest-dreams-article-100864341&amp;sa=U&amp;ved=2ahUKEwjM-pP3isaAAxV3hVYBHWLSCNIQr4kDegQICBAC&amp;usg=AOvVaw02c2AmB8GFPW9CwKdMOdld\"><div class=\"jB2rPd\"> <span class=\"qXLe6d x3G5ab\"> <span class=\"fYyStc\">Maruti Suzuki Jimny 5-Door...</span> </span> <span class=\"qXLe6d F9iS2e\"> <span class=\"fYyStc\">www.timesnownews.com</span> </span> </div></a></td></tr></table></div></div> </div> </div></td><td align=\"center\" class=\"e3goi\"><div class=\"mnTahd\"> <div> <div class=\"lIMUZd\"><div><table class=\"IkMU6e\"><tr><td><a href=\"/url?q=https://www.news18.com/news/auto/this-suzuki-jimny-modified-as-a-convertible-is-an-off-roaders-dream-6254839.html&amp;sa=U&amp;ved=2ahUKEwjM-pP3isaAAxV3hVYBHWLSCNIQqoUBegQIARAB&amp;usg=AOvVaw0m_xtGA0dQQeL22lhtqs2l\"><div class=\"NZWO1b\"><img alt=\"\" class=\"yWs4tf\" src=\"https://encrypted-tbn0.gstatic.com/images?q=tbn:ANd9GcSfRVDdBZv5R71Jf53DU8-opFlJc2d1t92aEYHc4vxW3uyQJRKa6M3l2eh1RZc&amp;s\"/></div></a></td></tr><tr><td><a href=\"/url?q=https://www.news18.com/news/auto/this-suzuki-jimny-modified-as-a-convertible-is-an-off-roaders-dream-6254839.html&amp;sa=U&amp;ved=2ahUKEwjM-pP3isaAAxV3hVYBHWLSCNIQr4kDegQIARAC&amp;usg=AOvVaw2sYDnndGL-RLmahD7qVVEQ\"><div class=\"jB2rPd\"> <span class=\"qXLe6d x3G5ab\"> <span class=\"fYyStc\">This Suzuki Jimny Modified...</span> </span> <span class=\"qXLe6d F9iS2e\"> <span class=\"fYyStc\">www.news18.com</span> </span> </div></a></td></tr></table></div></div> </div> </div></td><td align=\"center\" class=\"e3goi\"><div class=\"mnTahd\"> <div> <div class=\"lIMUZd\"><div><table class=\"IkMU6e\"><tr><td><a href=\"/url?q=https://www.financialexpress.com/auto/auto-expo-2023/maruti-suzuki-jimny-5-door-top-5-things-to-know/2947460/&amp;sa=U&amp;ved=2ahUKEwjM-pP3isaAAxV3hVYBHWLSCNIQqoUBegQIAxAB&amp;usg=AOvVaw0tv1lwY55jB7X4emACvDDs\"><div class=\"NZWO1b\"><img alt=\"\" class=\"yWs4tf\" src=\"https://encrypted-tbn0.gstatic.com/images?q=tbn:ANd9GcRLiil8BcrkW3nTfhcvzKkAN7npwOiCAia486w_OuTaQwvwYVNZxWC_J6xPoHA&amp;s\"/></div></a></td></tr><tr><td><a href=\"/url?q=https://www.financialexpress.com/auto/auto-expo-2023/maruti-suzuki-jimny-5-door-top-5-things-to-know/2947460/&amp;sa=U&amp;ved=2ahUKEwjM-pP3isaAAxV3hVYBHWLSCNIQr4kDegQIAxAC&amp;usg=AOvVaw2kFwNsnvDL7V-hRGi3Ln_8\"><div class=\"jB2rPd\"> <span class=\"qXLe6d x3G5ab\"> <span class=\"fYyStc\">Maruti Suzuki Jimny 5-door:...</span> </span> <span class=\"qXLe6d F9iS2e\"> <span class=\"fYyStc\">www.financialexpress.com</span> </span> </div></a></td></tr></table></div></div> </div> </div></td><td align=\"center\" class=\"e3goi\"><div class=\"mnTahd\"> <div> <div class=\"lIMUZd\"><div><table class=\"IkMU6e\"><tr><td><a href=\"/url?q=https://www.nexaexperience.com/jimny&amp;sa=U&amp;ved=2ahUKEwjM-pP3isaAAxV3hVYBHWLSCNIQqoUBegQIBxAB&amp;usg=AOvVaw1F6LR7piFUCGm9GE0AtSpn\"><div class=\"NZWO1b\"><img alt=\"\" class=\"yWs4tf\" src=\"https://encrypted-tbn0.gstatic.com/images?q=tbn:ANd9GcRq6227Bun-qWu3ypL67R33ehbQvcQ8yJwtfTqM6Pry43f38HgvDuMxV1ESJRo&amp;s\"/></div></a></td></tr><tr><td><a href=\"/url?q=https://www.nexaexperience.com/jimny&amp;sa=U&amp;ved=2ahUKEwjM-pP3isaAAxV3hVYBHWLSCNIQr4kDegQIBxAC&amp;usg=AOvVaw3kxjSO0z5GSzAK2Oe62zVc\"><div class=\"jB2rPd\"> <span class=\"qXLe6d x3G5ab\"> <span class=\"fYyStc\">Maruti Suzuki Jimny | NEXA</span> </span> <span class=\"qXLe6d F9iS2e\"> <span class=\"fYyStc\">www.nexaexperience.com</span> </span> </div></a></td></tr></table></div></div> </div> </div></td></tr><tr><td align=\"center\" class=\"e3goi\"><div class=\"mnTahd\"> <div> <div class=\"lIMUZd\"><div><table class=\"IkMU6e\"><tr><td><a href=\"/url?q=https://www.autocarpro.in/news-national/maruti-suzuki-to-manufacture-jimny-suv-at-gujarat-plant-55704&amp;sa=U&amp;ved=2ahUKEwjM-pP3isaAAxV3hVYBHWLSCNIQqoUBegQIBRAB&amp;usg=AOvVaw20IaZWa0Pw6INlKUxz2kJ-\"><div class=\"NZWO1b\"><img alt=\"\" class=\"yWs4tf\" src=\"https://encrypted-tbn0.gstatic.com/images?q=tbn:ANd9GcTDJ5NXc16rQOuqkt8qfmWaKF0CKwa58aI12CfwQc474uI2PKBCXctUHpVNdg&amp;s\"/></div></a></td></tr><tr><td><a href=\"/url?q=https://www.autocarpro.in/news-national/maruti-suzuki-to-manufacture-jimny-suv-at-gujarat-plant-55704&amp;sa=U&amp;ved=2ahUKEwjM-pP3isaAAxV3hVYBHWLSCNIQr4kDegQIBRAC&amp;usg=AOvVaw2r94f3FiUzEvn2cxVdBAHl\"><div class=\"jB2rPd\"> <span class=\"qXLe6d x3G5ab\"> <span class=\"fYyStc\">Maruti Suzuki to make Jimny...</span> </span> <span class=\"qXLe6d F9iS2e\"> <span class=\"fYyStc\">www.autocarpro.in</span> </span> </div></a></td></tr></table></div></div> </div> </div></td><td align=\"center\" class=\"e3goi\"><div class=\"mnTahd\"> <div> <div class=\"lIMUZd\"><div><table class=\"IkMU6e\"><tr><td><a href=\"/url?q=https://zeenews.india.com/auto/modified-maruti-suzuki-jimny-5-door-has-enough-drama-to-inspire-indian-buyers-check-pics-2559451.html&amp;sa=U&amp;ved=2ahUKEwjM-pP3isaAAxV3hVYBHWLSCNIQqoUBegQIBBAB&amp;usg=AOvVaw2EOYBbOpsh1T0J9_EOCxFC\"><div class=\"NZWO1b\"><img alt=\"\" class=\"yWs4tf\" src=\"https://encrypted-tbn0.gstatic.com/images?q=tbn:ANd9GcTXKk2SwLRN1MWjjDyOYbr7Ks_m3F042Ni9qZollmcWj3GBIZm77qXHSBUDI6E&amp;s\"/></div></a></td></tr><tr><td><a href=\"/url?q=https://zeenews.india.com/auto/modified-maruti-suzuki-jimny-5-door-has-enough-drama-to-inspire-indian-buyers-check-pics-2559451.html&amp;sa=U&amp;ved=2ahUKEwjM-pP3isaAAxV3hVYBHWLSCNIQr4kDegQIBBAC&amp;usg=AOvVaw3p0o8nuYDMdzKX3t05oZ86\"><div class=\"jB2rPd\"> <span class=\"qXLe6d x3G5ab\"> <span class=\"fYyStc\">Modified Maruti Suzuki...</span> </span> <span class=\"qXLe6d F9iS2e\"> <span class=\"fYyStc\">zeenews.india.com</span> </span> </div></a></td></tr></table></div></div> </div> </div></td><td align=\"center\" class=\"e3goi\"><div class=\"mnTahd\"> <div> <div class=\"lIMUZd\"><div><table class=\"IkMU6e\"><tr><td><a href=\"/url?q=https://auto.hindustantimes.com/auto/cars/indias-first-modified-maruti-jimny-suv-spotted-with-giant-tractor-like-wheels-in-punjab-41687494903721.html&amp;sa=U&amp;ved=2ahUKEwjM-pP3isaAAxV3hVYBHWLSCNIQqoUBegQIBhAB&amp;usg=AOvVaw3iIudZMrzdyNOyhjZCAFV5\"><div class=\"NZWO1b\"><img alt=\"\" class=\"yWs4tf\" src=\"https://encrypted-tbn0.gstatic.com/images?q=tbn:ANd9GcTOB0sz3BcZIQ1DTB401DMcjJ-FTL6LTuOl2vUcvVL9zEaiEDxT1IEtKpbBXEM&amp;s\"/></div></a></td></tr><tr><td><a href=\"/url?q=https://auto.hindustantimes.com/auto/cars/indias-first-modified-maruti-jimny-suv-spotted-with-giant-tractor-like-wheels-in-punjab-41687494903721.html&amp;sa=U&amp;ved=2ahUKEwjM-pP3isaAAxV3hVYBHWLSCNIQr4kDegQIBhAC&amp;usg=AOvVaw3axbDVAIZVvUY0TO5plPfS\"><div class=\"jB2rPd\"> <span class=\"qXLe6d x3G5ab\"> <span class=\"fYyStc\">India's first modified...</span> </span> <span class=\"qXLe6d F9iS2e\"> <span class=\"fYyStc\">auto.hindustantimes.com</span> </span> </div></a></td></tr></table></div></div> </div> </div></td><td align=\"center\" class=\"e3goi\"><div class=\"mnTahd\"> <div> <div class=\"lIMUZd\"><div><table class=\"IkMU6e\"><tr><td><a href=\"/url?q=https://m.economictimes.com/industry/auto/marutis-new-suv-jimny-rival-to-mahindra-thar-set-for-launch-next-month-expected-price-features/articleshow/100501805.cms&amp;sa=U&amp;ved=2ahUKEwjM-pP3isaAAxV3hVYBHWLSCNIQqoUBegQIABAB&amp;usg=AOvVaw36ty0ltcN39t_ChydRDBKj\"><div class=\"NZWO1b\"><img alt=\"\" class=\"yWs4tf\" src=\"https://encrypted-tbn0.gstatic.com/images?q=tbn:ANd9GcRFjAKS6oBne00ahYtp1tWMMABQdq1jGLdJLfpwptdSk6RPuk6sXgUFFoVpNA&amp;s\"/></div></a></td></tr><tr><td><a href=\"/url?q=https://m.economictimes.com/industry/auto/marutis-new-suv-jimny-rival-to-mahindra-thar-set-for-launch-next-month-expected-price-features/articleshow/100501805.cms&amp;sa=U&amp;ved=2ahUKEwjM-pP3isaAAxV3hVYBHWLSCNIQr4kDegQIABAC&amp;usg=AOvVaw130qHPSioXz53dIof4Yf0O\"><div class=\"jB2rPd\"> <span class=\"qXLe6d x3G5ab\"> <span class=\"fYyStc\">Maruti's new SUV Jimny,...</span> </span> <span class=\"qXLe6d F9iS2e\"> <span class=\"fYyStc\">m.economictimes.com</span> </span> </div></a></td></tr></table></div></div> </div> </div></td></tr></table></div><table class=\"uZgmoc\"><tbody><td><a class=\"frGj1b\" href=\"/search?q=Jimny&amp;client=firefox-b-d&amp;bih=927&amp;biw=1920&amp;ie=UTF-8&amp;tbm=isch&amp;ei=eIzOZMzeC_eK2roP4qSjkA0&amp;start=20&amp;sa=N\">Next &gt;</a></td></tbody></table><br/><div class=\"TuS8Ad\" data-ved=\"0ahUKEwjM-pP3isaAAxV3hVYBHWLSCNIQpyoIUg\"><style>.VYM29{font-weight:bold}</style><div align=\"center\" class=\"HddGcc\"><span class=\"VYM29\">834002, Ranchi, Jharkhand</span><span> - </span><span>From your IP address</span><span> - </span><a href=\"/url?q=https://support.google.com/websearch%3Fp%3Dws_settings_location%26hl%3Den-IN&amp;sa=U&amp;ved=0ahUKEwjM-pP3isaAAxV3hVYBHWLSCNIQty4IUw&amp;usg=AOvVaw0e88JK38DGsj0tHJ1NwVZV\">Learn more</a></div><div align=\"center\"><a class=\"rEM8G\" href=\"/url?q=https://accounts.google.com/ServiceLogin%3Fcontinue%3Dhttps://www.google.com/search%253Fq%253DJimny%2526tbm%253Disch%2526ved%253D2ahUKEwj77fvny7WAAxU8_zgGHRH1AjQQ2-cCegQIABAA%2526oq%253DJimny%2526gs_lcp%253DCgNpbWcQAzILCAAQgAQQsQMQgwEyCwgAEIAEELEDEIMBMgcIABCKBRBDMgsIABCABBCxAxCDATIHCAAQigUQQzINCAAQigUQsQMQgwEQQzILCAAQgAQQsQMQgwEyBAgAEAMyCwgAEIAEELEDEIMBMgsIABCABBCxAxCDAToICAAQgAQQsQM6BQgAEIAEOggIABCxAxCDAToKCAAQigUQsQMQQ1DTEVjBKGD7K2gAcAB4AIABsgGIAdkHkgEDMC42mAEAoAEBqgELZ3dzLXdpei1pbWfAAQE%2526sclient%253Dimg%2526ei%253DzebFZLvTBbz-4-EPkeqLoAM%2526bih%253D927%2526biw%253D1920%2526client%253Dfirefox-b-d%26hl%3Den&amp;sa=U&amp;ved=0ahUKEwjM-pP3isaAAxV3hVYBHWLSCNIQxs8CCFQ&amp;usg=AOvVaw39Tilfm1-Mcc_npRrhZ27L\">Sign in</a></div><div><table class=\"bookcf\"><tbody class=\"InWNIe\"><tr><td><a class=\"rEM8G\" href=\"https://www.google.com/preferences?hl=en&amp;client=firefox-b-d&amp;sa=X&amp;ved=0ahUKEwjM-pP3isaAAxV3hVYBHWLSCNIQv5YECFU\">Settings</a></td><td><a class=\"rEM8G\" href=\"https://www.google.com/intl/en_in/policies/privacy/\">Privacy</a></td><td><a class=\"rEM8G\" href=\"https://www.google.com/intl/en_in/policies/terms/\">Terms</a></td></tr></tbody></table></div></div><div> </div></body></html>\n"
     ]
    }
   ],
   "source": [
    "soup = BeautifulSoup(response.content, \"html.parser\")\n",
    "print(soup)"
   ]
  },
  {
   "cell_type": "code",
   "execution_count": 5,
   "metadata": {},
   "outputs": [
    {
     "name": "stdout",
     "output_type": "stream",
     "text": [
      "20\n"
     ]
    },
    {
     "data": {
      "text/plain": [
       "[<img alt=\"\" class=\"yWs4tf\" src=\"https://encrypted-tbn0.gstatic.com/images?q=tbn:ANd9GcQKP_Pq06jL3pSB2BGezLPEZ3SPyZg2HXHiIDXSPSlXaLvzarcdHTYTFM0v9zk&amp;s\"/>,\n",
       " <img alt=\"\" class=\"yWs4tf\" src=\"https://encrypted-tbn0.gstatic.com/images?q=tbn:ANd9GcS3Jt7c-YG4VlNMQxtwcLjTCTzZAFZEgS3a1Y_DX9ZlqQqm1lGy_XVuWBYQqw&amp;s\"/>,\n",
       " <img alt=\"\" class=\"yWs4tf\" src=\"https://encrypted-tbn0.gstatic.com/images?q=tbn:ANd9GcQuePk56aNvsgmaVt9cV_quFZhnb1jbRlr0SMcYk449_6ad7ZXyReE4sMPDVQ&amp;s\"/>,\n",
       " <img alt=\"\" class=\"yWs4tf\" src=\"https://encrypted-tbn0.gstatic.com/images?q=tbn:ANd9GcS-cCsUbNxjR0USkOQvhKcMQLJRrHhrP5Y0sVlnLbqo4D35QEkOEO0RG38WAQ&amp;s\"/>,\n",
       " <img alt=\"\" class=\"yWs4tf\" src=\"https://encrypted-tbn0.gstatic.com/images?q=tbn:ANd9GcS7E21XohAEr_G_unt0Z7ABKQpnahsntC2EnAa0R6MKQ-D7gVg-bWhweSE4ZrQ&amp;s\"/>,\n",
       " <img alt=\"\" class=\"yWs4tf\" src=\"https://encrypted-tbn0.gstatic.com/images?q=tbn:ANd9GcRq_CnO6ADQ25wnNiO1hvaYQwKBFWaP7T9r2K4Z1RK5O_mU7snaxBWrcjlBcQ&amp;s\"/>,\n",
       " <img alt=\"\" class=\"yWs4tf\" src=\"https://encrypted-tbn0.gstatic.com/images?q=tbn:ANd9GcQDWPUqXGMTH8B-TdvlJaefTxyMa2AaxMXtDGcEDUYi9-vfm-Rer1EXkA4xsg&amp;s\"/>,\n",
       " <img alt=\"\" class=\"yWs4tf\" src=\"https://encrypted-tbn0.gstatic.com/images?q=tbn:ANd9GcSqBr254MD-QpFnoi3n2221kfHEadN7Ihz0ZlNfLRwWKBI5UPikfdUfk2Xy_JU&amp;s\"/>,\n",
       " <img alt=\"\" class=\"yWs4tf\" src=\"https://encrypted-tbn0.gstatic.com/images?q=tbn:ANd9GcSzwGo0QHXtn_bPEmqxFxOyi2fCBe-XsVKuzNhVHJULAblhT8Mac3G3Xp8RFA&amp;s\"/>,\n",
       " <img alt=\"\" class=\"yWs4tf\" src=\"https://encrypted-tbn0.gstatic.com/images?q=tbn:ANd9GcRuM9Zuc3OVmkdTlX7JPYo6Lf-AZe3yAxgu3skICumq0407E6fB115bE53IuQ&amp;s\"/>,\n",
       " <img alt=\"\" class=\"yWs4tf\" src=\"https://encrypted-tbn0.gstatic.com/images?q=tbn:ANd9GcSUoYdqZXz7OmRpqU_cZBY6bmCwN84HRgoyyDts3ct4n2NmmTnua9ncLs5mrg8&amp;s\"/>,\n",
       " <img alt=\"\" class=\"yWs4tf\" src=\"https://encrypted-tbn0.gstatic.com/images?q=tbn:ANd9GcSZH2wgQVysB9-bsLZR1JqxQNoVxyqrTkVfIaVxYofAihJIhaiXXuO7idZRlg&amp;s\"/>,\n",
       " <img alt=\"\" class=\"yWs4tf\" src=\"https://encrypted-tbn0.gstatic.com/images?q=tbn:ANd9GcRp9j4ESRFfLQI-MP4NGJVXrlf1HBCTu7s_SGLJcGNDq8bdR8IXCYDO95OOcA&amp;s\"/>,\n",
       " <img alt=\"\" class=\"yWs4tf\" src=\"https://encrypted-tbn0.gstatic.com/images?q=tbn:ANd9GcSfRVDdBZv5R71Jf53DU8-opFlJc2d1t92aEYHc4vxW3uyQJRKa6M3l2eh1RZc&amp;s\"/>,\n",
       " <img alt=\"\" class=\"yWs4tf\" src=\"https://encrypted-tbn0.gstatic.com/images?q=tbn:ANd9GcRLiil8BcrkW3nTfhcvzKkAN7npwOiCAia486w_OuTaQwvwYVNZxWC_J6xPoHA&amp;s\"/>,\n",
       " <img alt=\"\" class=\"yWs4tf\" src=\"https://encrypted-tbn0.gstatic.com/images?q=tbn:ANd9GcRq6227Bun-qWu3ypL67R33ehbQvcQ8yJwtfTqM6Pry43f38HgvDuMxV1ESJRo&amp;s\"/>,\n",
       " <img alt=\"\" class=\"yWs4tf\" src=\"https://encrypted-tbn0.gstatic.com/images?q=tbn:ANd9GcTDJ5NXc16rQOuqkt8qfmWaKF0CKwa58aI12CfwQc474uI2PKBCXctUHpVNdg&amp;s\"/>,\n",
       " <img alt=\"\" class=\"yWs4tf\" src=\"https://encrypted-tbn0.gstatic.com/images?q=tbn:ANd9GcTXKk2SwLRN1MWjjDyOYbr7Ks_m3F042Ni9qZollmcWj3GBIZm77qXHSBUDI6E&amp;s\"/>,\n",
       " <img alt=\"\" class=\"yWs4tf\" src=\"https://encrypted-tbn0.gstatic.com/images?q=tbn:ANd9GcTOB0sz3BcZIQ1DTB401DMcjJ-FTL6LTuOl2vUcvVL9zEaiEDxT1IEtKpbBXEM&amp;s\"/>,\n",
       " <img alt=\"\" class=\"yWs4tf\" src=\"https://encrypted-tbn0.gstatic.com/images?q=tbn:ANd9GcRFjAKS6oBne00ahYtp1tWMMABQdq1jGLdJLfpwptdSk6RPuk6sXgUFFoVpNA&amp;s\"/>]"
      ]
     },
     "execution_count": 5,
     "metadata": {},
     "output_type": "execute_result"
    }
   ],
   "source": [
    "image_tags = soup.find_all(\"img\")\n",
    "# remove the first item as its a descriptor, not an image\n",
    "del image_tags[0]\n",
    "image_tags\n",
    "print(len(image_tags))\n",
    "image_tags"
   ]
  },
  {
   "cell_type": "code",
   "execution_count": 6,
   "metadata": {},
   "outputs": [
    {
     "name": "stdout",
     "output_type": "stream",
     "text": [
      "Images added.\n",
      "Images added.\n",
      "Images added.\n",
      "Images added.\n",
      "Images added.\n",
      "Images added.\n",
      "Images added.\n",
      "Images added.\n",
      "Images added.\n",
      "Images added.\n",
      "Images added.\n",
      "Images added.\n",
      "Images added.\n",
      "Images added.\n",
      "Images added.\n",
      "Images added.\n",
      "Images added.\n",
      "Images added.\n",
      "Images added.\n",
      "Images added.\n"
     ]
    }
   ],
   "source": [
    "for item in image_tags:\n",
    "    image_src = item[\"src\"]\n",
    "    image_data = requests.get(image_src).content\n",
    "    with open(os.path.join(image_dir, f\"{query}_{image_tags.index(item)}.png\"), \"wb\") as f:\n",
    "        f.write(image_data)\n",
    "        print(\"Images added.\")\n",
    "        "
   ]
  },
  {
   "cell_type": "code",
   "execution_count": null,
   "metadata": {},
   "outputs": [],
   "source": []
  }
 ],
 "metadata": {
  "kernelspec": {
   "display_name": "Python 3",
   "language": "python",
   "name": "python3"
  },
  "language_info": {
   "codemirror_mode": {
    "name": "ipython",
    "version": 3
   },
   "file_extension": ".py",
   "mimetype": "text/x-python",
   "name": "python",
   "nbconvert_exporter": "python",
   "pygments_lexer": "ipython3",
   "version": "3.9.17"
  },
  "orig_nbformat": 4
 },
 "nbformat": 4,
 "nbformat_minor": 2
}
