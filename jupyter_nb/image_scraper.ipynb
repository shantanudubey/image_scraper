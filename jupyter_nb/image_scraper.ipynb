{
 "cells": [
  {
   "cell_type": "markdown",
   "metadata": {},
   "source": [
    "# Image Scraper Project"
   ]
  },
  {
   "cell_type": "code",
   "execution_count": 3,
   "metadata": {},
   "outputs": [
    {
     "name": "stdout",
     "output_type": "stream",
     "text": [
      "Image Scraper    : Init\n"
     ]
    }
   ],
   "source": [
    "import requests\n",
    "import logging\n",
    "import os\n",
    "from bs4 import BeautifulSoup\n",
    "from urllib.request import urlopen\n",
    "\n",
    "\n",
    "print(\"Image Scraper    : Init\")"
   ]
  },
  {
   "cell_type": "code",
   "execution_count": 4,
   "metadata": {},
   "outputs": [],
   "source": [
    "image_dir = \"../assets/images/\"\n",
    "\n",
    "if not (os.path.exists(image_dir)):\n",
    "    os.makedirs(image_dir)"
   ]
  },
  {
   "cell_type": "code",
   "execution_count": 10,
   "metadata": {},
   "outputs": [
    {
     "name": "stdout",
     "output_type": "stream",
     "text": [
      "<Response [200]>\n"
     ]
    }
   ],
   "source": [
    "query = \"BMW 330i\"\n",
    "url = f\"https://www.google.com/search?q={query}&tbm=isch&ved=2ahUKEwj77fvny7WAAxU8_zgGHRH1AjQQ2-cCegQIABAA&oq=Jimny&gs_lcp=CgNpbWcQAzILCAAQgAQQsQMQgwEyCwgAEIAEELEDEIMBMgcIABCKBRBDMgsIABCABBCxAxCDATIHCAAQigUQQzINCAAQigUQsQMQgwEQQzILCAAQgAQQsQMQgwEyBAgAEAMyCwgAEIAEELEDEIMBMgsIABCABBCxAxCDAToICAAQgAQQsQM6BQgAEIAEOggIABCxAxCDAToKCAAQigUQsQMQQ1DTEVjBKGD7K2gAcAB4AIABsgGIAdkHkgEDMC42mAEAoAEBqgELZ3dzLXdpei1pbWfAAQE&sclient=img&ei=zebFZLvTBbz-4-EPkeqLoAM&bih=927&biw=1920&client=firefox-b-d\"\n",
    "response = requests.get(url=url)\n",
    "print(response)"
   ]
  },
  {
   "cell_type": "code",
   "execution_count": 11,
   "metadata": {},
   "outputs": [
    {
     "name": "stdout",
     "output_type": "stream",
     "text": [
      "<!DOCTYPE html PUBLIC \"-//WAPFORUM//DTD XHTML Mobile 1.0//EN\" \"http://www.wapforum.org/DTD/xhtml-mobile10.dtd\">\n",
      "<html lang=\"en-IN\" xmlns=\"http://www.w3.org/1999/xhtml\"><head><meta content=\"application/xhtml+xml; charset=utf-8\" http-equiv=\"Content-Type\"/><meta content=\"no-cache\" name=\"Cache-Control\"/><title>BMW 330i - Google Search</title><style>a{text-decoration:none;color:inherit}a:hover{text-decoration:underline}a img{border:0}body{font-family:arial,sans-serif;padding:8px;margin:0 auto;max-width:700px;min-width:240px;}.FbhRzb{border-left:thin solid #dadce0;border-right:thin solid #dadce0;border-top:thin solid #dadce0;height:40px;overflow:hidden}.n692Zd{margin-bottom:10px}.cvifge{height:40px;border-spacing:0}.QvGUP{height:40px;padding:0 8px 0 8px;vertical-align:top}.O4cRJf{height:40px;width:100%;padding:0;padding-right:16px}.O1ePr{height:40px;padding:0;vertical-align:top}.kgJEQe{height:36px;width:98px;vertical-align:top;margin-top:4px}.lXLRf{vertical-align:top}.MhzMZd{border:0;vertical-align:middle;font-size:14px;height:40px;padding:0;width:100%;padding-left:16px}.xB0fq{height:40px;border:none;font-size:14px;background-color:#1a73e8;color:#fff;padding:0 16px;margin:0;vertical-align:top;cursor:pointer}.xB0fq:focus{border:1px solid #1a73e8}.M7pB2{border:thin solid #dadce0;margin:0 0 3px 0;font-size:13px;font-weight:500;height:40px}.euZec{width:100%;height:40px;text-align:center;border-spacing:0}table.euZec td{padding:0;width:25%}.QIqI7{display:inline-block;padding-top:4px;font-weight:bold;color:#4285f4}.EY24We{border-bottom:2px solid #4285f4}.CsQyDc{display:inline-block;color:#70757a}.TuS8Ad{font-size:14px}.HddGcc{padding:8px;color:#70757a}.dzp8ae{font-weight:bold;color:#3c4043}.rEM8G{color:#70757a}.bookcf{table-layout:fixed;width:100%;border-spacing:0}.InWNIe{text-align:center}.uZgmoc{border:thin solid #dadce0;color:#70757a;font-size:14px;text-align:center;table-layout:fixed;width:100%}.frGj1b{display:block;padding:12px 0 12px 0;width:100%}.BnJWBc{text-align:center;padding:6px 0 13px 0;height:35px}.e3goi{vertical-align:top;padding:0;height:180px}.GpQGbf{margin:auto;border-collapse:collapse;border-spacing:0;width:100%}</style></head><body><style>.X6ZCif{color:#202124;font-size:11px;line-height:16px;display:inline-block;padding-top:2px;overflow:hidden;padding-bottom:4px;width:100%}.TwVfHd{border-radius:16px;border:thin solid #dadce0;display:inline-block;padding:8px 8px;margin-right:8px;margin-bottom:4px}.yekiAe{background-color:#dadce0}.mnTahd{width:100%}.ezO2md{border:thin solid #dadce0;padding:12px 16px 12px 16px;margin-bottom:10px;font-family:arial,sans-serif}.lIMUZd{font-family:arial,sans-serif}.IkMU6e{border-spacing:0}.SjCsie{width:100%}.EnarA{text-align:center}.NZWO1b{width:162px;height:140px;line-height:140px;overflow:'hidden';text-align:center}.yWs4tf{text-align:center;margin:auto;vertical-align:middle;max-width:162px;max-height:140px}.jB2rPd{padding-top:2px;padding-bottom:8px;}.fYyStc{word-break:break-word}.ynsChf{display:block;white-space:nowrap;overflow:hidden;text-overflow:ellipsis}.Fj3V3b{color:#1967d2;font-size:14px;line-height:20px}.FrIlee{color:#202124;font-size:11px;line-height:16px}.F9iS2e{color:#70757a;font-size:11px;line-height:16px}.WMQ2Le{color:#70757a;font-size:12px;line-height:16px}.x3G5ab{color:#202124;font-size:12px;line-height:16px}.fuLhoc{color:#1967d2;font-size:16px;line-height:20px}.epoveb{font-size:24px;line-height:28px;font-weight:400;color:#202124}.dXDvrc{color:#0d652d;font-size:14px;line-height:20px;word-wrap:break-word}.dloBPe{font-weight:bold}.YVIcad{color:#70757a}.JkVVdd{color:#ea4335}.oXZRFd{color:#ea4335}.MQHtg{color:#fbbc04}.pyMRrb{color:#1e8e3e}.EtTZid{color:#1e8e3e}.M3vVJe{color:#1967d2}.qXLe6d{display:block}.NHQNef{font-style:italic}.Cb8Z7c{white-space:pre}a.ZWRArf{text-decoration:none}a .CVA68e:hover{text-decoration:underline}</style><div class=\"n692Zd\"><div class=\"BnJWBc\"><a class=\"lXLRf\" href=\"/?client=firefox-b-d&amp;sca_esv=556231409&amp;bih=927&amp;biw=1920&amp;output=images&amp;ie=UTF-8&amp;tbm=isch&amp;sa=X&amp;ved=0ahUKEwjU_JXxyNaAAxVoa2wGHRfACkkQPAgC\"><img alt=\"Google\" class=\"kgJEQe\" src=\"/images/branding/searchlogo/1x/googlelogo_desk_heirloom_color_150x55dp.gif\"/></a></div><div class=\"FbhRzb\"><form action=\"/search\"><input name=\"client\" type=\"hidden\" value=\"firefox-b-d\"/><input name=\"sca_esv\" type=\"hidden\" value=\"556231409\"/><input name=\"bih\" type=\"hidden\" value=\"927\"/><input name=\"biw\" type=\"hidden\" value=\"1920\"/><input name=\"ie\" type=\"hidden\" value=\"ISO-8859-1\"/><input name=\"tbm\" type=\"hidden\" value=\"isch\"/><input name=\"oq\" type=\"hidden\"/><input name=\"aqs\" type=\"hidden\"/><table class=\"cvifge\"><tr><td class=\"O4cRJf\"><input class=\"MhzMZd\" name=\"q\" type=\"text\" value=\"BMW 330i\"/></td><td class=\"O1ePr\"><input class=\"xB0fq\" type=\"submit\" value=\"Search\"/></td></tr></table></form></div><div class=\"M7pB2\"><table class=\"euZec\"><tbody><tr><td><a class=\"CsQyDc\" href=\"/search?q=BMW+330i&amp;client=firefox-b-d&amp;sca_esv=556231409&amp;bih=927&amp;biw=1920&amp;ie=UTF-8&amp;source=lnms&amp;sa=X&amp;ved=0ahUKEwjU_JXxyNaAAxVoa2wGHRfACkkQ_AUIBCgA\">ALL</a></td><td class=\"EY24We\"><span class=\"QIqI7\">IMAGES</span></td><td><a class=\"CsQyDc\" href=\"/search?q=BMW+330i&amp;client=firefox-b-d&amp;sca_esv=556231409&amp;bih=927&amp;biw=1920&amp;ie=UTF-8&amp;tbm=vid&amp;source=lnms&amp;sa=X&amp;ved=0ahUKEwjU_JXxyNaAAxVoa2wGHRfACkkQ_AUIBigC\">VIDEOS</a></td><td><a class=\"CsQyDc\" href=\"/search?q=BMW+330i&amp;client=firefox-b-d&amp;sca_esv=556231409&amp;bih=927&amp;biw=1920&amp;ie=UTF-8&amp;tbm=nws&amp;source=lnms&amp;sa=X&amp;ved=0ahUKEwjU_JXxyNaAAxVoa2wGHRfACkkQ_AUIBygD\">NEWS</a></td></tr></tbody></table></div></div><div class=\"X6ZCif\"><a class=\"TwVfHd\" href=\"/search?client=firefox-b-d&amp;sca_esv=556231409&amp;bih=927&amp;biw=1920&amp;ie=UTF-8&amp;tbm=isch&amp;q=BMW+330i&amp;chips=q:bmw+330i,g_1:interior&amp;sa=X&amp;ved=0ahUKEwjU_JXxyNaAAxVoa2wGHRfACkkQ4lYICygA\">interior</a><a class=\"TwVfHd\" href=\"/search?client=firefox-b-d&amp;sca_esv=556231409&amp;bih=927&amp;biw=1920&amp;ie=UTF-8&amp;tbm=isch&amp;q=BMW+330i&amp;chips=q:bmw+330i,g_1:sport&amp;sa=X&amp;ved=0ahUKEwjU_JXxyNaAAxVoa2wGHRfACkkQ4lYIDCgB\">sport</a><a class=\"TwVfHd\" href=\"/search?client=firefox-b-d&amp;sca_esv=556231409&amp;bih=927&amp;biw=1920&amp;ie=UTF-8&amp;tbm=isch&amp;q=BMW+330i&amp;chips=q:bmw+330i,g_1:3+series&amp;sa=X&amp;ved=0ahUKEwjU_JXxyNaAAxVoa2wGHRfACkkQ4lYIDSgC\">3 series</a><a class=\"TwVfHd\" href=\"/search?client=firefox-b-d&amp;sca_esv=556231409&amp;bih=927&amp;biw=1920&amp;ie=UTF-8&amp;tbm=isch&amp;q=BMW+330i&amp;chips=q:bmw+330i,g_1:e46&amp;sa=X&amp;ved=0ahUKEwjU_JXxyNaAAxVoa2wGHRfACkkQ4lYIDigD\">e46</a><a class=\"TwVfHd\" href=\"/search?client=firefox-b-d&amp;sca_esv=556231409&amp;bih=927&amp;biw=1920&amp;ie=UTF-8&amp;tbm=isch&amp;q=BMW+330i&amp;chips=q:bmw+330i,g_1:custom&amp;sa=X&amp;ved=0ahUKEwjU_JXxyNaAAxVoa2wGHRfACkkQ4lYIDygE\">custom</a><a class=\"TwVfHd\" href=\"/search?client=firefox-b-d&amp;sca_esv=556231409&amp;bih=927&amp;biw=1920&amp;ie=UTF-8&amp;tbm=isch&amp;q=BMW+330i&amp;chips=q:bmw+330i,g_1:e90&amp;sa=X&amp;ved=0ahUKEwjU_JXxyNaAAxVoa2wGHRfACkkQ4lYIECgF\">e90</a><a class=\"TwVfHd\" href=\"/search?client=firefox-b-d&amp;sca_esv=556231409&amp;bih=927&amp;biw=1920&amp;ie=UTF-8&amp;tbm=isch&amp;q=BMW+330i&amp;chips=q:bmw+330i,g_1:xdrive&amp;sa=X&amp;ved=0ahUKEwjU_JXxyNaAAxVoa2wGHRfACkkQ4lYIESgG\">xdrive</a><a class=\"TwVfHd\" href=\"/search?client=firefox-b-d&amp;sca_esv=556231409&amp;bih=927&amp;biw=1920&amp;ie=UTF-8&amp;tbm=isch&amp;q=BMW+330i&amp;chips=q:bmw+330i,g_1:wallpaper&amp;sa=X&amp;ved=0ahUKEwjU_JXxyNaAAxVoa2wGHRfACkkQ4lYIEigH\">wallpaper</a><a class=\"TwVfHd\" href=\"/search?client=firefox-b-d&amp;sca_esv=556231409&amp;bih=927&amp;biw=1920&amp;ie=UTF-8&amp;tbm=isch&amp;q=BMW+330i&amp;chips=q:bmw+330i,g_1:price&amp;sa=X&amp;ved=0ahUKEwjU_JXxyNaAAxVoa2wGHRfACkkQ4lYIEygI\">price</a><a class=\"TwVfHd\" href=\"/search?client=firefox-b-d&amp;sca_esv=556231409&amp;bih=927&amp;biw=1920&amp;ie=UTF-8&amp;tbm=isch&amp;q=BMW+330i&amp;chips=q:bmw+330i,g_1:f30&amp;sa=X&amp;ved=0ahUKEwjU_JXxyNaAAxVoa2wGHRfACkkQ4lYIFCgJ\">f30</a></div><div><table class=\"GpQGbf\"><tr><td align=\"center\" class=\"e3goi\"><div class=\"mnTahd\"> <div> <div class=\"lIMUZd\"><div><table class=\"IkMU6e\"><tr><td><a href=\"/url?q=https://www.carwale.com/bmw-cars/3-series/330i-sport/&amp;sa=U&amp;ved=2ahUKEwjU_JXxyNaAAxVoa2wGHRfACkkQqoUBegQIABAB&amp;usg=AOvVaw2iCIyMb4rJxz20ecv_AcFE\"><div class=\"NZWO1b\"><img alt=\"\" class=\"yWs4tf\" src=\"https://encrypted-tbn0.gstatic.com/images?q=tbn:ANd9GcTnRtvWVoAEZZbwB1HF_6UmLEZjNMmnnAAIS0yu15FYAaatTKZzsFOw7atIdg&amp;s\"/></div></a></td></tr><tr><td><a href=\"/url?q=https://www.carwale.com/bmw-cars/3-series/330i-sport/&amp;sa=U&amp;ved=2ahUKEwjU_JXxyNaAAxVoa2wGHRfACkkQr4kDegQIABAC&amp;usg=AOvVaw1BpbIHVs6cXLP1ufdKl9hC\"><div class=\"jB2rPd\"> <span class=\"qXLe6d x3G5ab\"> <span class=\"fYyStc\">Discontinued 3 Series 330i...</span> </span> <span class=\"qXLe6d F9iS2e\"> <span class=\"fYyStc\">www.carwale.com</span> </span> </div></a></td></tr></table></div></div> </div> </div></td><td align=\"center\" class=\"e3goi\"><div class=\"mnTahd\"> <div> <div class=\"lIMUZd\"><div><table class=\"IkMU6e\"><tr><td><a href=\"/url?q=https://www.carexpert.com.au/car-reviews/2023-bmw-330i-review&amp;sa=U&amp;ved=2ahUKEwjU_JXxyNaAAxVoa2wGHRfACkkQqoUBegQIEhAB&amp;usg=AOvVaw2hm8_DBfVrSjPAVyeP9Moh\"><div class=\"NZWO1b\"><img alt=\"\" class=\"yWs4tf\" src=\"https://encrypted-tbn0.gstatic.com/images?q=tbn:ANd9GcRNNOMf4Sx1FAF_Fl7c1EVBEUJQBhWs0-z0uKpCTmkrJjxGqBCqRNVG5heeKQ&amp;s\"/></div></a></td></tr><tr><td><a href=\"/url?q=https://www.carexpert.com.au/car-reviews/2023-bmw-330i-review&amp;sa=U&amp;ved=2ahUKEwjU_JXxyNaAAxVoa2wGHRfACkkQr4kDegQIEhAC&amp;usg=AOvVaw2cloHwvfTOUna7cRSvVaK2\"><div class=\"jB2rPd\"> <span class=\"qXLe6d x3G5ab\"> <span class=\"fYyStc\">2023 BMW 330i review |...</span> </span> <span class=\"qXLe6d F9iS2e\"> <span class=\"fYyStc\">www.carexpert.com.au</span> </span> </div></a></td></tr></table></div></div> </div> </div></td><td align=\"center\" class=\"e3goi\"><div class=\"mnTahd\"> <div> <div class=\"lIMUZd\"><div><table class=\"IkMU6e\"><tr><td><a href=\"/url?q=https://www.autocarindia.com/car-news/bmw-330i-sport-launched-at-rs-4170-lakh-416606&amp;sa=U&amp;ved=2ahUKEwjU_JXxyNaAAxVoa2wGHRfACkkQqoUBegQIExAB&amp;usg=AOvVaw2-TapzImy0EsOHURbEcjIH\"><div class=\"NZWO1b\"><img alt=\"\" class=\"yWs4tf\" src=\"https://encrypted-tbn0.gstatic.com/images?q=tbn:ANd9GcSJZVETf3HAFO0I6nAo2wlPdQysWmEuc0YCdjIqXLlnoOCh5jDNCe-0B89a0A&amp;s\"/></div></a></td></tr><tr><td><a href=\"/url?q=https://www.autocarindia.com/car-news/bmw-330i-sport-launched-at-rs-4170-lakh-416606&amp;sa=U&amp;ved=2ahUKEwjU_JXxyNaAAxVoa2wGHRfACkkQr4kDegQIExAC&amp;usg=AOvVaw0sFj6CC9jGprp9b_B2wd3l\"><div class=\"jB2rPd\"> <span class=\"qXLe6d x3G5ab\"> <span class=\"fYyStc\">Entry-level BMW 330i Sport...</span> </span> <span class=\"qXLe6d F9iS2e\"> <span class=\"fYyStc\">www.autocarindia.com</span> </span> </div></a></td></tr></table></div></div> </div> </div></td><td align=\"center\" class=\"e3goi\"><div class=\"mnTahd\"> <div> <div class=\"lIMUZd\"><div><table class=\"IkMU6e\"><tr><td><a href=\"/url?q=https://www.carwale.com/bmw-cars/3-series/330i-m-sport/&amp;sa=U&amp;ved=2ahUKEwjU_JXxyNaAAxVoa2wGHRfACkkQqoUBegQIEBAB&amp;usg=AOvVaw3YnQgDGivl7Lzqod0WtCwf\"><div class=\"NZWO1b\"><img alt=\"\" class=\"yWs4tf\" src=\"https://encrypted-tbn0.gstatic.com/images?q=tbn:ANd9GcQi34ouzn2eonElnit97Cvcx5Jkk8_CcagzUSBErbYRLo_ZbYo79LdMesEQnA&amp;s\"/></div></a></td></tr><tr><td><a href=\"/url?q=https://www.carwale.com/bmw-cars/3-series/330i-m-sport/&amp;sa=U&amp;ved=2ahUKEwjU_JXxyNaAAxVoa2wGHRfACkkQr4kDegQIEBAC&amp;usg=AOvVaw18pFD14cisTm0b6fiPZ2FN\"><div class=\"jB2rPd\"> <span class=\"qXLe6d x3G5ab\"> <span class=\"fYyStc\">Discontinued 3 Series 330i...</span> </span> <span class=\"qXLe6d F9iS2e\"> <span class=\"fYyStc\">www.carwale.com</span> </span> </div></a></td></tr></table></div></div> </div> </div></td></tr><tr><td align=\"center\" class=\"e3goi\"><div class=\"mnTahd\"> <div> <div class=\"lIMUZd\"><div><table class=\"IkMU6e\"><tr><td><a href=\"/url?q=https://www.autocarindia.com/car-reviews/2019-bmw-330i-review-test-drive-414107&amp;sa=U&amp;ved=2ahUKEwjU_JXxyNaAAxVoa2wGHRfACkkQqoUBegQIDxAB&amp;usg=AOvVaw0L5GabqirJabf4J80hAoYf\"><div class=\"NZWO1b\"><img alt=\"\" class=\"yWs4tf\" src=\"https://encrypted-tbn0.gstatic.com/images?q=tbn:ANd9GcSUIc81pP1QrqWNV35XJIBmjWO2Jn_uiy2YHvSEs4LqbmLScQwKn22Mn7tlHw&amp;s\"/></div></a></td></tr><tr><td><a href=\"/url?q=https://www.autocarindia.com/car-reviews/2019-bmw-330i-review-test-drive-414107&amp;sa=U&amp;ved=2ahUKEwjU_JXxyNaAAxVoa2wGHRfACkkQr4kDegQIDxAC&amp;usg=AOvVaw0pADrgXJf44qxrEVc_0c2t\"><div class=\"jB2rPd\"> <span class=\"qXLe6d x3G5ab\"> <span class=\"fYyStc\">2019 BMW 330i review, test...</span> </span> <span class=\"qXLe6d F9iS2e\"> <span class=\"fYyStc\">www.autocarindia.com</span> </span> </div></a></td></tr></table></div></div> </div> </div></td><td align=\"center\" class=\"e3goi\"><div class=\"mnTahd\"> <div> <div class=\"lIMUZd\"><div><table class=\"IkMU6e\"><tr><td><a href=\"/url?q=https://www.hdcarwallpapers.com/bmw_330i_m_sport_2022_5k-wallpapers&amp;sa=U&amp;ved=2ahUKEwjU_JXxyNaAAxVoa2wGHRfACkkQqoUBegQICxAB&amp;usg=AOvVaw0D8aXNk6Cpf3ZH8LtRLfst\"><div class=\"NZWO1b\"><img alt=\"\" class=\"yWs4tf\" src=\"https://encrypted-tbn0.gstatic.com/images?q=tbn:ANd9GcQ9-n2MGPGX4H6-pFdspbQow7hE4LucJs7rgSz-dseWhoOh0Z7Q2DP85GYqUg&amp;s\"/></div></a></td></tr><tr><td><a href=\"/url?q=https://www.hdcarwallpapers.com/bmw_330i_m_sport_2022_5k-wallpapers&amp;sa=U&amp;ved=2ahUKEwjU_JXxyNaAAxVoa2wGHRfACkkQr4kDegQICxAC&amp;usg=AOvVaw2ncpki-rspLU09umkCAMAO\"><div class=\"jB2rPd\"> <span class=\"qXLe6d x3G5ab\"> <span class=\"fYyStc\">BMW 330i M Sport 2022 5K...</span> </span> <span class=\"qXLe6d F9iS2e\"> <span class=\"fYyStc\">www.hdcarwallpapers.com</span> </span> </div></a></td></tr></table></div></div> </div> </div></td><td align=\"center\" class=\"e3goi\"><div class=\"mnTahd\"> <div> <div class=\"lIMUZd\"><div><table class=\"IkMU6e\"><tr><td><a href=\"/url?q=https://www.wardsauto.com/10-best-ux/bmw-330i-very-definition-smart-car&amp;sa=U&amp;ved=2ahUKEwjU_JXxyNaAAxVoa2wGHRfACkkQqoUBegQIDhAB&amp;usg=AOvVaw0abOF_HC_cfL-DfbODK07-\"><div class=\"NZWO1b\"><img alt=\"\" class=\"yWs4tf\" src=\"https://encrypted-tbn0.gstatic.com/images?q=tbn:ANd9GcTJ-TJhJXf7j-DFc9C7fsFztyoDFlKvFYc1C7G4YrduE5cXXS0b-olcJAMXp1U&amp;s\"/></div></a></td></tr><tr><td><a href=\"/url?q=https://www.wardsauto.com/10-best-ux/bmw-330i-very-definition-smart-car&amp;sa=U&amp;ved=2ahUKEwjU_JXxyNaAAxVoa2wGHRfACkkQr4kDegQIDhAC&amp;usg=AOvVaw32bTquCSudOxiN2hA-36ls\"><div class=\"jB2rPd\"> <span class=\"qXLe6d x3G5ab\"> <span class=\"fYyStc\">BMW 330i Very Definition of...</span> </span> <span class=\"qXLe6d F9iS2e\"> <span class=\"fYyStc\">www.wardsauto.com</span> </span> </div></a></td></tr></table></div></div> </div> </div></td><td align=\"center\" class=\"e3goi\"><div class=\"mnTahd\"> <div> <div class=\"lIMUZd\"><div><table class=\"IkMU6e\"><tr><td><a href=\"/url?q=https://www.cnet.com/roadshow/news/2019-bmw-330i-long-term-wrap-up/&amp;sa=U&amp;ved=2ahUKEwjU_JXxyNaAAxVoa2wGHRfACkkQqoUBegQIERAB&amp;usg=AOvVaw3phXC-iE8WNGLSQd6IU7ix\"><div class=\"NZWO1b\"><img alt=\"\" class=\"yWs4tf\" src=\"https://encrypted-tbn0.gstatic.com/images?q=tbn:ANd9GcSAkcczC8R5W5DNFJkPsLCFf77gud9eWQATtRDYgUkjc5I9rBlXGoNRzmmeLJA&amp;s\"/></div></a></td></tr><tr><td><a href=\"/url?q=https://www.cnet.com/roadshow/news/2019-bmw-330i-long-term-wrap-up/&amp;sa=U&amp;ved=2ahUKEwjU_JXxyNaAAxVoa2wGHRfACkkQr4kDegQIERAC&amp;usg=AOvVaw2JJ_RWE_bmSjzklUXbPJ8_\"><div class=\"jB2rPd\"> <span class=\"qXLe6d x3G5ab\"> <span class=\"fYyStc\">2019 BMW 330i long-term...</span> </span> <span class=\"qXLe6d F9iS2e\"> <span class=\"fYyStc\">www.cnet.com</span> </span> </div></a></td></tr></table></div></div> </div> </div></td></tr><tr><td align=\"center\" class=\"e3goi\"><div class=\"mnTahd\"> <div> <div class=\"lIMUZd\"><div><table class=\"IkMU6e\"><tr><td><a href=\"/url?q=https://www.bigboytoyz.com/newcars/bmw/bmw-3-series/330i-sport&amp;sa=U&amp;ved=2ahUKEwjU_JXxyNaAAxVoa2wGHRfACkkQqoUBegQIDBAB&amp;usg=AOvVaw2HTqU8KTdGBxfHuconr1j_\"><div class=\"NZWO1b\"><img alt=\"\" class=\"yWs4tf\" src=\"https://encrypted-tbn0.gstatic.com/images?q=tbn:ANd9GcTXbqZrYKDOTBuKZnmHK7SB-AxBoIVz2SeU7LRvCHeCK9mBRx_jBSqXHKpAiQ&amp;s\"/></div></a></td></tr><tr><td><a href=\"/url?q=https://www.bigboytoyz.com/newcars/bmw/bmw-3-series/330i-sport&amp;sa=U&amp;ved=2ahUKEwjU_JXxyNaAAxVoa2wGHRfACkkQr4kDegQIDBAC&amp;usg=AOvVaw064kovYKSbBuHoXVFsVuIm\"><div class=\"jB2rPd\"> <span class=\"qXLe6d x3G5ab\"> <span class=\"fYyStc\">Bmw BMW 3 Series 330i sport...</span> </span> <span class=\"qXLe6d F9iS2e\"> <span class=\"fYyStc\">www.bigboytoyz.com</span> </span> </div></a></td></tr></table></div></div> </div> </div></td><td align=\"center\" class=\"e3goi\"><div class=\"mnTahd\"> <div> <div class=\"lIMUZd\"><div><table class=\"IkMU6e\"><tr><td><a href=\"/url?q=https://www.roadandtrack.com/new-cars/first-drives/a25475896/2019-bmw-330i-first-drive-review/&amp;sa=U&amp;ved=2ahUKEwjU_JXxyNaAAxVoa2wGHRfACkkQqoUBegQIDRAB&amp;usg=AOvVaw1D9mGvFem9zvRBM99LanI_\"><div class=\"NZWO1b\"><img alt=\"\" class=\"yWs4tf\" src=\"https://encrypted-tbn0.gstatic.com/images?q=tbn:ANd9GcR6tNSjXEr4sbx_mly_uRb7kojSBlmpStBLIyqyYca6J3oPUOq23wxgKcXcmfM&amp;s\"/></div></a></td></tr><tr><td><a href=\"/url?q=https://www.roadandtrack.com/new-cars/first-drives/a25475896/2019-bmw-330i-first-drive-review/&amp;sa=U&amp;ved=2ahUKEwjU_JXxyNaAAxVoa2wGHRfACkkQr4kDegQIDRAC&amp;usg=AOvVaw0P-I1vF6NYkbpItYyqNyVY\"><div class=\"jB2rPd\"> <span class=\"qXLe6d x3G5ab\"> <span class=\"fYyStc\">2019 BMW 330i First Drive...</span> </span> <span class=\"qXLe6d F9iS2e\"> <span class=\"fYyStc\">www.roadandtrack.com</span> </span> </div></a></td></tr></table></div></div> </div> </div></td><td align=\"center\" class=\"e3goi\"><div class=\"mnTahd\"> <div> <div class=\"lIMUZd\"><div><table class=\"IkMU6e\"><tr><td><a href=\"/url?q=https://www.autocarindia.com/car-reviews/2019-bmw-330i-review-test-drive-414107&amp;sa=U&amp;ved=2ahUKEwjU_JXxyNaAAxVoa2wGHRfACkkQqoUBegQIChAB&amp;usg=AOvVaw0AagI8wZw7xvFRpH_Ignna\"><div class=\"NZWO1b\"><img alt=\"\" class=\"yWs4tf\" src=\"https://encrypted-tbn0.gstatic.com/images?q=tbn:ANd9GcQvz--s7LRUoS12qEAu4hJYBqd4erpWnMOacgDbcDVUcQQNlkp1cPO9yrP6Ng&amp;s\"/></div></a></td></tr><tr><td><a href=\"/url?q=https://www.autocarindia.com/car-reviews/2019-bmw-330i-review-test-drive-414107&amp;sa=U&amp;ved=2ahUKEwjU_JXxyNaAAxVoa2wGHRfACkkQr4kDegQIChAC&amp;usg=AOvVaw1UN_0fKQIRWidobS7r3KhA\"><div class=\"jB2rPd\"> <span class=\"qXLe6d x3G5ab\"> <span class=\"fYyStc\">2019 BMW 330i review, test...</span> </span> <span class=\"qXLe6d F9iS2e\"> <span class=\"fYyStc\">www.autocarindia.com</span> </span> </div></a></td></tr></table></div></div> </div> </div></td><td align=\"center\" class=\"e3goi\"><div class=\"mnTahd\"> <div> <div class=\"lIMUZd\"><div><table class=\"IkMU6e\"><tr><td><a href=\"/url?q=https://www.atlantabmw.com/models/bmw-330i-atlanta.htm&amp;sa=U&amp;ved=2ahUKEwjU_JXxyNaAAxVoa2wGHRfACkkQqoUBegQICRAB&amp;usg=AOvVaw2eFZJs--moGXSs-V9tRAx8\"><div class=\"NZWO1b\"><img alt=\"\" class=\"yWs4tf\" src=\"https://encrypted-tbn0.gstatic.com/images?q=tbn:ANd9GcQZrCtQVbyKF26S46TXx0LE4wcQe-Swh9J-li-FR7uRuWNxX-fcjpVcv1aTTA&amp;s\"/></div></a></td></tr><tr><td><a href=\"/url?q=https://www.atlantabmw.com/models/bmw-330i-atlanta.htm&amp;sa=U&amp;ved=2ahUKEwjU_JXxyNaAAxVoa2wGHRfACkkQr4kDegQICRAC&amp;usg=AOvVaw0m23kEvmCpE3Tvfr7W0wB6\"><div class=\"jB2rPd\"> <span class=\"qXLe6d x3G5ab\"> <span class=\"fYyStc\">2023 BMW 330i For Sale in...</span> </span> <span class=\"qXLe6d F9iS2e\"> <span class=\"fYyStc\">www.atlantabmw.com</span> </span> </div></a></td></tr></table></div></div> </div> </div></td></tr><tr><td align=\"center\" class=\"e3goi\"><div class=\"mnTahd\"> <div> <div class=\"lIMUZd\"><div><table class=\"IkMU6e\"><tr><td><a href=\"/url?q=https://www.motortrend.com/reviews/2023-bmw-3-series-330i-first-drive-review/&amp;sa=U&amp;ved=2ahUKEwjU_JXxyNaAAxVoa2wGHRfACkkQqoUBegQIBRAB&amp;usg=AOvVaw20ft-yDJwkpu3msPBuK1WS\"><div class=\"NZWO1b\"><img alt=\"\" class=\"yWs4tf\" src=\"https://encrypted-tbn0.gstatic.com/images?q=tbn:ANd9GcSCxKTm5hXoc33Q6xOewTjwS88TDdcVBz55uQgwUTu4TMzb0h_igbnhD0YsXA&amp;s\"/></div></a></td></tr><tr><td><a href=\"/url?q=https://www.motortrend.com/reviews/2023-bmw-3-series-330i-first-drive-review/&amp;sa=U&amp;ved=2ahUKEwjU_JXxyNaAAxVoa2wGHRfACkkQr4kDegQIBRAC&amp;usg=AOvVaw3_4SImgLAeXOrEwHcDQYAC\"><div class=\"jB2rPd\"> <span class=\"qXLe6d x3G5ab\"> <span class=\"fYyStc\">2023 BMW 330i First Drive:...</span> </span> <span class=\"qXLe6d F9iS2e\"> <span class=\"fYyStc\">www.motortrend.com</span> </span> </div></a></td></tr></table></div></div> </div> </div></td><td align=\"center\" class=\"e3goi\"><div class=\"mnTahd\"> <div> <div class=\"lIMUZd\"><div><table class=\"IkMU6e\"><tr><td><a href=\"/url?q=https://www.gqindia.com/gq-gears/content/car-review-of-the-new-2019-bmw-330i-price-driving-features-specs&amp;sa=U&amp;ved=2ahUKEwjU_JXxyNaAAxVoa2wGHRfACkkQqoUBegQIAhAB&amp;usg=AOvVaw2avzmcZyLCcYkzOsRW0UxP\"><div class=\"NZWO1b\"><img alt=\"\" class=\"yWs4tf\" src=\"https://encrypted-tbn0.gstatic.com/images?q=tbn:ANd9GcT2jq1_aX_d5jpnU31jmBpuUL3hGqrpf6_GEIgjYdJo7fxuf0UGbKNMNt4Ymz4&amp;s\"/></div></a></td></tr><tr><td><a href=\"/url?q=https://www.gqindia.com/gq-gears/content/car-review-of-the-new-2019-bmw-330i-price-driving-features-specs&amp;sa=U&amp;ved=2ahUKEwjU_JXxyNaAAxVoa2wGHRfACkkQr4kDegQIAhAC&amp;usg=AOvVaw35wsa78i1Vc7xd1b6wgOfT\"><div class=\"jB2rPd\"> <span class=\"qXLe6d x3G5ab\"> <span class=\"fYyStc\">Is the 2019 BMW 330i back...</span> </span> <span class=\"qXLe6d F9iS2e\"> <span class=\"fYyStc\">www.gqindia.com</span> </span> </div></a></td></tr></table></div></div> </div> </div></td><td align=\"center\" class=\"e3goi\"><div class=\"mnTahd\"> <div> <div class=\"lIMUZd\"><div><table class=\"IkMU6e\"><tr><td><a href=\"/url?q=https://www.bmwoffremont.com/new/BMW/2023-BMW-330i-e8d65fa40a0e081d76e5dbde4fb04819.htm&amp;sa=U&amp;ved=2ahUKEwjU_JXxyNaAAxVoa2wGHRfACkkQqoUBegQIBhAB&amp;usg=AOvVaw2Xt-WMU-3J_BxgWKrxAslr\"><div class=\"NZWO1b\"><img alt=\"\" class=\"yWs4tf\" src=\"https://encrypted-tbn0.gstatic.com/images?q=tbn:ANd9GcQyGSIP_wlUCbg77tOT78sPknGvR2chU8zNELKs-8jL6F9igvmLaQKlwckb7lg&amp;s\"/></div></a></td></tr><tr><td><a href=\"/url?q=https://www.bmwoffremont.com/new/BMW/2023-BMW-330i-e8d65fa40a0e081d76e5dbde4fb04819.htm&amp;sa=U&amp;ved=2ahUKEwjU_JXxyNaAAxVoa2wGHRfACkkQr4kDegQIBhAC&amp;usg=AOvVaw2q3VPgTSlo_NlQRT8wM8Y5\"><div class=\"jB2rPd\"> <span class=\"qXLe6d x3G5ab\"> <span class=\"fYyStc\">New 2023 BMW 330i For Sale...</span> </span> <span class=\"qXLe6d F9iS2e\"> <span class=\"fYyStc\">www.bmwoffremont.com</span> </span> </div></a></td></tr></table></div></div> </div> </div></td><td align=\"center\" class=\"e3goi\"><div class=\"mnTahd\"> <div> <div class=\"lIMUZd\"><div><table class=\"IkMU6e\"><tr><td><a href=\"/url?q=https://www.bigboytoyz.com/newcars/bmw/bmw-3-series/330i-sport&amp;sa=U&amp;ved=2ahUKEwjU_JXxyNaAAxVoa2wGHRfACkkQqoUBegQIBBAB&amp;usg=AOvVaw1S7fKvuOXxwJNsvXHZBiNa\"><div class=\"NZWO1b\"><img alt=\"\" class=\"yWs4tf\" src=\"https://encrypted-tbn0.gstatic.com/images?q=tbn:ANd9GcRMAiZd5dRYnZH7_jALgj-63IB0_cNy29g7wpWxz91ks0wrX3ZiaSmkIb52Bw&amp;s\"/></div></a></td></tr><tr><td><a href=\"/url?q=https://www.bigboytoyz.com/newcars/bmw/bmw-3-series/330i-sport&amp;sa=U&amp;ved=2ahUKEwjU_JXxyNaAAxVoa2wGHRfACkkQr4kDegQIBBAC&amp;usg=AOvVaw0BIAza2MX3sb1t-HaDODM4\"><div class=\"jB2rPd\"> <span class=\"qXLe6d x3G5ab\"> <span class=\"fYyStc\">Bmw BMW 3 Series 330i sport...</span> </span> <span class=\"qXLe6d F9iS2e\"> <span class=\"fYyStc\">www.bigboytoyz.com</span> </span> </div></a></td></tr></table></div></div> </div> </div></td></tr><tr><td align=\"center\" class=\"e3goi\"><div class=\"mnTahd\"> <div> <div class=\"lIMUZd\"><div><table class=\"IkMU6e\"><tr><td><a href=\"/url?q=https://www.bmw.in/en/all-models/3-series/gran-limousine/2022/bmw-3-series-long-wheelbase-highlight.html&amp;sa=U&amp;ved=2ahUKEwjU_JXxyNaAAxVoa2wGHRfACkkQqoUBegQIAxAB&amp;usg=AOvVaw2ycS9zTRcIqZvLA2Cg_q2O\"><div class=\"NZWO1b\"><img alt=\"\" class=\"yWs4tf\" src=\"https://encrypted-tbn0.gstatic.com/images?q=tbn:ANd9GcSe-FHRIWqc-Nkw5BrJ7chwOUnVTxjtfQWV6g25wvSBdmLIRXfoWw5POSNHXA&amp;s\"/></div></a></td></tr><tr><td><a href=\"/url?q=https://www.bmw.in/en/all-models/3-series/gran-limousine/2022/bmw-3-series-long-wheelbase-highlight.html&amp;sa=U&amp;ved=2ahUKEwjU_JXxyNaAAxVoa2wGHRfACkkQr4kDegQIAxAC&amp;usg=AOvVaw3NySOD9Zk3AsZJa1XIler4\"><div class=\"jB2rPd\"> <span class=\"qXLe6d x3G5ab\"> <span class=\"fYyStc\">BMW 3 Series Sedan...</span> </span> <span class=\"qXLe6d F9iS2e\"> <span class=\"fYyStc\">www.bmw.in</span> </span> </div></a></td></tr></table></div></div> </div> </div></td><td align=\"center\" class=\"e3goi\"><div class=\"mnTahd\"> <div> <div class=\"lIMUZd\"><div><table class=\"IkMU6e\"><tr><td><a href=\"/url?q=https://www.autobest.co.in/car/bmw-3-series-330i-m-sport_1160&amp;sa=U&amp;ved=2ahUKEwjU_JXxyNaAAxVoa2wGHRfACkkQqoUBegQICBAB&amp;usg=AOvVaw34Kc11_0T_QrrKRvRIESOM\"><div class=\"NZWO1b\"><img alt=\"\" class=\"yWs4tf\" src=\"https://encrypted-tbn0.gstatic.com/images?q=tbn:ANd9GcRIX-LuEmgsI3jyk9aOYjeAqgTrA5xocKwPRKqtIhnDF1T0yDM6mBDBJeK4TDE&amp;s\"/></div></a></td></tr><tr><td><a href=\"/url?q=https://www.autobest.co.in/car/bmw-3-series-330i-m-sport_1160&amp;sa=U&amp;ved=2ahUKEwjU_JXxyNaAAxVoa2wGHRfACkkQr4kDegQICBAC&amp;usg=AOvVaw1dLkdzyQDxuJMMroeOtnra\"><div class=\"jB2rPd\"> <span class=\"qXLe6d x3G5ab\"> <span class=\"fYyStc\">Pre Owned BMW 3 Series 330I...</span> </span> <span class=\"qXLe6d F9iS2e\"> <span class=\"fYyStc\">www.autobest.co.in</span> </span> </div></a></td></tr></table></div></div> </div> </div></td><td align=\"center\" class=\"e3goi\"><div class=\"mnTahd\"> <div> <div class=\"lIMUZd\"><div><table class=\"IkMU6e\"><tr><td><a href=\"/url?q=https://wall.alphacoders.com/by_sub_category.php%3Fid%3D346132%26name%3DBMW%2B330i%2BWallpapers&amp;sa=U&amp;ved=2ahUKEwjU_JXxyNaAAxVoa2wGHRfACkkQqoUBegQIARAB&amp;usg=AOvVaw0HLqGI7oAtOkpY0nyJJ2FB\"><div class=\"NZWO1b\"><img alt=\"\" class=\"yWs4tf\" src=\"https://encrypted-tbn0.gstatic.com/images?q=tbn:ANd9GcQhlwf1VaX6htKoDeEAzizDp02rm_NzXfPUpbAZi3kD90f1Frkjac7WB5cAF3Y&amp;s\"/></div></a></td></tr><tr><td><a href=\"/url?q=https://wall.alphacoders.com/by_sub_category.php%3Fid%3D346132%26name%3DBMW%2B330i%2BWallpapers&amp;sa=U&amp;ved=2ahUKEwjU_JXxyNaAAxVoa2wGHRfACkkQr4kDegQIARAC&amp;usg=AOvVaw0lCKWAzA5NBl9LNGqL0VHX\"><div class=\"jB2rPd\"> <span class=\"qXLe6d x3G5ab\"> <span class=\"fYyStc\">20+ BMW 330i HD Wallpapers...</span> </span> <span class=\"qXLe6d F9iS2e\"> <span class=\"fYyStc\">wall.alphacoders.com</span> </span> </div></a></td></tr></table></div></div> </div> </div></td><td align=\"center\" class=\"e3goi\"><div class=\"mnTahd\"> <div> <div class=\"lIMUZd\"><div><table class=\"IkMU6e\"><tr><td><a href=\"/url?q=https://www.drive.com.au/reviews/2021-bmw-330i-luxury-line-review/&amp;sa=U&amp;ved=2ahUKEwjU_JXxyNaAAxVoa2wGHRfACkkQqoUBegQIBxAB&amp;usg=AOvVaw3sVUUXdE8hfgALNXIscwTc\"><div class=\"NZWO1b\"><img alt=\"\" class=\"yWs4tf\" src=\"https://encrypted-tbn0.gstatic.com/images?q=tbn:ANd9GcQqAYVpbekq0ej_RuG751uuLPW6gtaXj4seUsEq8-aNpzUao8LIq-ggdULASOs&amp;s\"/></div></a></td></tr><tr><td><a href=\"/url?q=https://www.drive.com.au/reviews/2021-bmw-330i-luxury-line-review/&amp;sa=U&amp;ved=2ahUKEwjU_JXxyNaAAxVoa2wGHRfACkkQr4kDegQIBxAC&amp;usg=AOvVaw0NcZt3LW2_bBInDg9JDEus\"><div class=\"jB2rPd\"> <span class=\"qXLe6d x3G5ab\"> <span class=\"fYyStc\">2021 BMW 330i Luxury Line...</span> </span> <span class=\"qXLe6d F9iS2e\"> <span class=\"fYyStc\">www.drive.com.au</span> </span> </div></a></td></tr></table></div></div> </div> </div></td></tr></table></div><table class=\"uZgmoc\"><tbody><td><a class=\"frGj1b\" href=\"/search?q=BMW+330i&amp;client=firefox-b-d&amp;sca_esv=556231409&amp;bih=927&amp;biw=1920&amp;ie=UTF-8&amp;tbm=isch&amp;ei=6jDXZNTfG-jWseMPl4CryAQ&amp;start=20&amp;sa=N\">Next &gt;</a></td></tbody></table><br/><div class=\"TuS8Ad\" data-ved=\"0ahUKEwjU_JXxyNaAAxVoa2wGHRfACkkQpyoIUg\"><style>.VYM29{font-weight:bold}</style><div align=\"center\" class=\"HddGcc\"><span class=\"VYM29\">834002, Ranchi, Jharkhand</span><span> - </span><span>From your IP address</span><span> - </span><a href=\"/url?q=https://support.google.com/websearch%3Fp%3Dws_settings_location%26hl%3Den-IN&amp;sa=U&amp;ved=0ahUKEwjU_JXxyNaAAxVoa2wGHRfACkkQty4IUw&amp;usg=AOvVaw1MwDQ4jYh4C1yBXIUUCZYx\">Learn more</a></div><div align=\"center\"><a class=\"rEM8G\" href=\"/url?q=https://accounts.google.com/ServiceLogin%3Fcontinue%3Dhttps://www.google.com/search%253Fq%253DBMW%252B330i%2526tbm%253Disch%2526ved%253D2ahUKEwj77fvny7WAAxU8_zgGHRH1AjQQ2-cCegQIABAA%2526oq%253DJimny%2526gs_lcp%253DCgNpbWcQAzILCAAQgAQQsQMQgwEyCwgAEIAEELEDEIMBMgcIABCKBRBDMgsIABCABBCxAxCDATIHCAAQigUQQzINCAAQigUQsQMQgwEQQzILCAAQgAQQsQMQgwEyBAgAEAMyCwgAEIAEELEDEIMBMgsIABCABBCxAxCDAToICAAQgAQQsQM6BQgAEIAEOggIABCxAxCDAToKCAAQigUQsQMQQ1DTEVjBKGD7K2gAcAB4AIABsgGIAdkHkgEDMC42mAEAoAEBqgELZ3dzLXdpei1pbWfAAQE%2526sclient%253Dimg%2526ei%253DzebFZLvTBbz-4-EPkeqLoAM%2526bih%253D927%2526biw%253D1920%2526client%253Dfirefox-b-d%26hl%3Den&amp;sa=U&amp;ved=0ahUKEwjU_JXxyNaAAxVoa2wGHRfACkkQxs8CCFQ&amp;usg=AOvVaw0d_aCk6XsowZSWDITO1K1g\">Sign in</a></div><div><table class=\"bookcf\"><tbody class=\"InWNIe\"><tr><td><a class=\"rEM8G\" href=\"https://www.google.com/preferences?hl=en&amp;client=firefox-b-d&amp;sa=X&amp;ved=0ahUKEwjU_JXxyNaAAxVoa2wGHRfACkkQv5YECFU\">Settings</a></td><td><a class=\"rEM8G\" href=\"https://www.google.com/intl/en_in/policies/privacy/\">Privacy</a></td><td><a class=\"rEM8G\" href=\"https://www.google.com/intl/en_in/policies/terms/\">Terms</a></td></tr></tbody></table></div></div><div> </div></body></html>\n"
     ]
    }
   ],
   "source": [
    "soup = BeautifulSoup(response.content, \"html.parser\")\n",
    "print(soup)"
   ]
  },
  {
   "cell_type": "code",
   "execution_count": 12,
   "metadata": {},
   "outputs": [
    {
     "name": "stdout",
     "output_type": "stream",
     "text": [
      "20\n"
     ]
    },
    {
     "data": {
      "text/plain": [
       "[<img alt=\"\" class=\"yWs4tf\" src=\"https://encrypted-tbn0.gstatic.com/images?q=tbn:ANd9GcTnRtvWVoAEZZbwB1HF_6UmLEZjNMmnnAAIS0yu15FYAaatTKZzsFOw7atIdg&amp;s\"/>,\n",
       " <img alt=\"\" class=\"yWs4tf\" src=\"https://encrypted-tbn0.gstatic.com/images?q=tbn:ANd9GcRNNOMf4Sx1FAF_Fl7c1EVBEUJQBhWs0-z0uKpCTmkrJjxGqBCqRNVG5heeKQ&amp;s\"/>,\n",
       " <img alt=\"\" class=\"yWs4tf\" src=\"https://encrypted-tbn0.gstatic.com/images?q=tbn:ANd9GcSJZVETf3HAFO0I6nAo2wlPdQysWmEuc0YCdjIqXLlnoOCh5jDNCe-0B89a0A&amp;s\"/>,\n",
       " <img alt=\"\" class=\"yWs4tf\" src=\"https://encrypted-tbn0.gstatic.com/images?q=tbn:ANd9GcQi34ouzn2eonElnit97Cvcx5Jkk8_CcagzUSBErbYRLo_ZbYo79LdMesEQnA&amp;s\"/>,\n",
       " <img alt=\"\" class=\"yWs4tf\" src=\"https://encrypted-tbn0.gstatic.com/images?q=tbn:ANd9GcSUIc81pP1QrqWNV35XJIBmjWO2Jn_uiy2YHvSEs4LqbmLScQwKn22Mn7tlHw&amp;s\"/>,\n",
       " <img alt=\"\" class=\"yWs4tf\" src=\"https://encrypted-tbn0.gstatic.com/images?q=tbn:ANd9GcQ9-n2MGPGX4H6-pFdspbQow7hE4LucJs7rgSz-dseWhoOh0Z7Q2DP85GYqUg&amp;s\"/>,\n",
       " <img alt=\"\" class=\"yWs4tf\" src=\"https://encrypted-tbn0.gstatic.com/images?q=tbn:ANd9GcTJ-TJhJXf7j-DFc9C7fsFztyoDFlKvFYc1C7G4YrduE5cXXS0b-olcJAMXp1U&amp;s\"/>,\n",
       " <img alt=\"\" class=\"yWs4tf\" src=\"https://encrypted-tbn0.gstatic.com/images?q=tbn:ANd9GcSAkcczC8R5W5DNFJkPsLCFf77gud9eWQATtRDYgUkjc5I9rBlXGoNRzmmeLJA&amp;s\"/>,\n",
       " <img alt=\"\" class=\"yWs4tf\" src=\"https://encrypted-tbn0.gstatic.com/images?q=tbn:ANd9GcTXbqZrYKDOTBuKZnmHK7SB-AxBoIVz2SeU7LRvCHeCK9mBRx_jBSqXHKpAiQ&amp;s\"/>,\n",
       " <img alt=\"\" class=\"yWs4tf\" src=\"https://encrypted-tbn0.gstatic.com/images?q=tbn:ANd9GcR6tNSjXEr4sbx_mly_uRb7kojSBlmpStBLIyqyYca6J3oPUOq23wxgKcXcmfM&amp;s\"/>,\n",
       " <img alt=\"\" class=\"yWs4tf\" src=\"https://encrypted-tbn0.gstatic.com/images?q=tbn:ANd9GcQvz--s7LRUoS12qEAu4hJYBqd4erpWnMOacgDbcDVUcQQNlkp1cPO9yrP6Ng&amp;s\"/>,\n",
       " <img alt=\"\" class=\"yWs4tf\" src=\"https://encrypted-tbn0.gstatic.com/images?q=tbn:ANd9GcQZrCtQVbyKF26S46TXx0LE4wcQe-Swh9J-li-FR7uRuWNxX-fcjpVcv1aTTA&amp;s\"/>,\n",
       " <img alt=\"\" class=\"yWs4tf\" src=\"https://encrypted-tbn0.gstatic.com/images?q=tbn:ANd9GcSCxKTm5hXoc33Q6xOewTjwS88TDdcVBz55uQgwUTu4TMzb0h_igbnhD0YsXA&amp;s\"/>,\n",
       " <img alt=\"\" class=\"yWs4tf\" src=\"https://encrypted-tbn0.gstatic.com/images?q=tbn:ANd9GcT2jq1_aX_d5jpnU31jmBpuUL3hGqrpf6_GEIgjYdJo7fxuf0UGbKNMNt4Ymz4&amp;s\"/>,\n",
       " <img alt=\"\" class=\"yWs4tf\" src=\"https://encrypted-tbn0.gstatic.com/images?q=tbn:ANd9GcQyGSIP_wlUCbg77tOT78sPknGvR2chU8zNELKs-8jL6F9igvmLaQKlwckb7lg&amp;s\"/>,\n",
       " <img alt=\"\" class=\"yWs4tf\" src=\"https://encrypted-tbn0.gstatic.com/images?q=tbn:ANd9GcRMAiZd5dRYnZH7_jALgj-63IB0_cNy29g7wpWxz91ks0wrX3ZiaSmkIb52Bw&amp;s\"/>,\n",
       " <img alt=\"\" class=\"yWs4tf\" src=\"https://encrypted-tbn0.gstatic.com/images?q=tbn:ANd9GcSe-FHRIWqc-Nkw5BrJ7chwOUnVTxjtfQWV6g25wvSBdmLIRXfoWw5POSNHXA&amp;s\"/>,\n",
       " <img alt=\"\" class=\"yWs4tf\" src=\"https://encrypted-tbn0.gstatic.com/images?q=tbn:ANd9GcRIX-LuEmgsI3jyk9aOYjeAqgTrA5xocKwPRKqtIhnDF1T0yDM6mBDBJeK4TDE&amp;s\"/>,\n",
       " <img alt=\"\" class=\"yWs4tf\" src=\"https://encrypted-tbn0.gstatic.com/images?q=tbn:ANd9GcQhlwf1VaX6htKoDeEAzizDp02rm_NzXfPUpbAZi3kD90f1Frkjac7WB5cAF3Y&amp;s\"/>,\n",
       " <img alt=\"\" class=\"yWs4tf\" src=\"https://encrypted-tbn0.gstatic.com/images?q=tbn:ANd9GcQqAYVpbekq0ej_RuG751uuLPW6gtaXj4seUsEq8-aNpzUao8LIq-ggdULASOs&amp;s\"/>]"
      ]
     },
     "execution_count": 12,
     "metadata": {},
     "output_type": "execute_result"
    }
   ],
   "source": [
    "image_tags = soup.find_all(\"img\")\n",
    "# remove the first item as its a descriptor, not an image\n",
    "del image_tags[0]\n",
    "image_tags\n",
    "print(len(image_tags))\n",
    "image_tags"
   ]
  },
  {
   "cell_type": "code",
   "execution_count": 13,
   "metadata": {},
   "outputs": [
    {
     "name": "stdout",
     "output_type": "stream",
     "text": [
      "Image added : BMW 330i_0.png\n",
      "Image added : BMW 330i_1.png\n",
      "Image added : BMW 330i_2.png\n",
      "Image added : BMW 330i_3.png\n",
      "Image added : BMW 330i_4.png\n",
      "Image added : BMW 330i_5.png\n",
      "Image added : BMW 330i_6.png\n",
      "Image added : BMW 330i_7.png\n",
      "Image added : BMW 330i_8.png\n",
      "Image added : BMW 330i_9.png\n",
      "Image added : BMW 330i_10.png\n",
      "Image added : BMW 330i_11.png\n",
      "Image added : BMW 330i_12.png\n",
      "Image added : BMW 330i_13.png\n",
      "Image added : BMW 330i_14.png\n",
      "Image added : BMW 330i_15.png\n",
      "Image added : BMW 330i_16.png\n",
      "Image added : BMW 330i_17.png\n",
      "Image added : BMW 330i_18.png\n",
      "Image added : BMW 330i_19.png\n"
     ]
    }
   ],
   "source": [
    "for item in image_tags:\n",
    "    image_src = item[\"src\"]\n",
    "    image_data = requests.get(image_src).content\n",
    "    fs = f\"{query}_{image_tags.index(item)}.png\"\n",
    "    with open(os.path.join(image_dir, fs), \"wb\") as f:\n",
    "        f.write(image_data)\n",
    "        print(\"Image added :\", fs)\n",
    "        "
   ]
  }
 ],
 "metadata": {
  "kernelspec": {
   "display_name": "Python 3",
   "language": "python",
   "name": "python3"
  },
  "language_info": {
   "codemirror_mode": {
    "name": "ipython",
    "version": 3
   },
   "file_extension": ".py",
   "mimetype": "text/x-python",
   "name": "python",
   "nbconvert_exporter": "python",
   "pygments_lexer": "ipython3",
   "version": "3.9.17"
  },
  "orig_nbformat": 4
 },
 "nbformat": 4,
 "nbformat_minor": 2
}
