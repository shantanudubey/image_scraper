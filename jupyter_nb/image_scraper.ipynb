{
 "cells": [
  {
   "cell_type": "markdown",
   "metadata": {},
   "source": [
    "# Image Scraper Project"
   ]
  },
  {
   "cell_type": "code",
   "execution_count": 1,
   "metadata": {},
   "outputs": [
    {
     "name": "stdout",
     "output_type": "stream",
     "text": [
      "Image Scraper    : Init\n"
     ]
    }
   ],
   "source": [
    "import requests\n",
    "import logging\n",
    "import os\n",
    "from bs4 import BeautifulSoup\n",
    "from urllib.request import urlopen\n",
    "\n",
    "\n",
    "print(\"Image Scraper    : Init\")"
   ]
  },
  {
   "cell_type": "code",
   "execution_count": 2,
   "metadata": {},
   "outputs": [],
   "source": [
    "image_dir = \"../assets/images/\"\n",
    "\n",
    "if not (os.path.exists(image_dir)):\n",
    "    os.makedirs(image_dir)"
   ]
  },
  {
   "cell_type": "code",
   "execution_count": 7,
   "metadata": {},
   "outputs": [
    {
     "name": "stdout",
     "output_type": "stream",
     "text": [
      "<Response [200]>\n"
     ]
    }
   ],
   "source": [
    "query = \"Thar\"\n",
    "url = f\"https://www.google.com/search?q={query}&tbm=isch&ved=2ahUKEwj77fvny7WAAxU8_zgGHRH1AjQQ2-cCegQIABAA&oq=Jimny&gs_lcp=CgNpbWcQAzILCAAQgAQQsQMQgwEyCwgAEIAEELEDEIMBMgcIABCKBRBDMgsIABCABBCxAxCDATIHCAAQigUQQzINCAAQigUQsQMQgwEQQzILCAAQgAQQsQMQgwEyBAgAEAMyCwgAEIAEELEDEIMBMgsIABCABBCxAxCDAToICAAQgAQQsQM6BQgAEIAEOggIABCxAxCDAToKCAAQigUQsQMQQ1DTEVjBKGD7K2gAcAB4AIABsgGIAdkHkgEDMC42mAEAoAEBqgELZ3dzLXdpei1pbWfAAQE&sclient=img&ei=zebFZLvTBbz-4-EPkeqLoAM&bih=927&biw=1920&client=firefox-b-d\"\n",
    "response = requests.get(url=url)\n",
    "print(response)"
   ]
  },
  {
   "cell_type": "code",
   "execution_count": 8,
   "metadata": {},
   "outputs": [
    {
     "name": "stdout",
     "output_type": "stream",
     "text": [
      "<!DOCTYPE html PUBLIC \"-//WAPFORUM//DTD XHTML Mobile 1.0//EN\" \"http://www.wapforum.org/DTD/xhtml-mobile10.dtd\">\n",
      "<html lang=\"en-IN\" xmlns=\"http://www.w3.org/1999/xhtml\"><head><meta content=\"application/xhtml+xml; charset=utf-8\" http-equiv=\"Content-Type\"/><meta content=\"no-cache\" name=\"Cache-Control\"/><title>Thar - Google Search</title><style>a{text-decoration:none;color:inherit}a:hover{text-decoration:underline}a img{border:0}body{font-family:arial,sans-serif;padding:8px;margin:0 auto;max-width:700px;min-width:240px;}.FbhRzb{border-left:thin solid #dadce0;border-right:thin solid #dadce0;border-top:thin solid #dadce0;height:40px;overflow:hidden}.n692Zd{margin-bottom:10px}.cvifge{height:40px;border-spacing:0}.QvGUP{height:40px;padding:0 8px 0 8px;vertical-align:top}.O4cRJf{height:40px;width:100%;padding:0;padding-right:16px}.O1ePr{height:40px;padding:0;vertical-align:top}.kgJEQe{height:36px;width:98px;vertical-align:top;margin-top:4px}.lXLRf{vertical-align:top}.MhzMZd{border:0;vertical-align:middle;font-size:14px;height:40px;padding:0;width:100%;padding-left:16px}.xB0fq{height:40px;border:none;font-size:14px;background-color:#1a73e8;color:#fff;padding:0 16px;margin:0;vertical-align:top;cursor:pointer}.xB0fq:focus{border:1px solid #1a73e8}.M7pB2{border:thin solid #dadce0;margin:0 0 3px 0;font-size:13px;font-weight:500;height:40px}.euZec{width:100%;height:40px;text-align:center;border-spacing:0}table.euZec td{padding:0;width:25%}.QIqI7{display:inline-block;padding-top:4px;font-weight:bold;color:#4285f4}.EY24We{border-bottom:2px solid #4285f4}.CsQyDc{display:inline-block;color:#70757a}.TuS8Ad{font-size:14px}.HddGcc{padding:8px;color:#70757a}.dzp8ae{font-weight:bold;color:#3c4043}.rEM8G{color:#70757a}.bookcf{table-layout:fixed;width:100%;border-spacing:0}.InWNIe{text-align:center}.uZgmoc{border:thin solid #dadce0;color:#70757a;font-size:14px;text-align:center;table-layout:fixed;width:100%}.frGj1b{display:block;padding:12px 0 12px 0;width:100%}.BnJWBc{text-align:center;padding:6px 0 13px 0;height:35px}.e3goi{vertical-align:top;padding:0;height:180px}.GpQGbf{margin:auto;border-collapse:collapse;border-spacing:0;width:100%}</style></head><body><style>.X6ZCif{color:#202124;font-size:11px;line-height:16px;display:inline-block;padding-top:2px;overflow:hidden;padding-bottom:4px;width:100%}.TwVfHd{border-radius:16px;border:thin solid #dadce0;display:inline-block;padding:8px 8px;margin-right:8px;margin-bottom:4px}.yekiAe{background-color:#dadce0}.mnTahd{width:100%}.ezO2md{border:thin solid #dadce0;padding:12px 16px 12px 16px;margin-bottom:10px;font-family:arial,sans-serif}.lIMUZd{font-family:arial,sans-serif}.IkMU6e{border-spacing:0}.SjCsie{width:100%}.EnarA{text-align:center}.NZWO1b{width:162px;height:140px;line-height:140px;overflow:'hidden';text-align:center}.yWs4tf{text-align:center;margin:auto;vertical-align:middle;max-width:162px;max-height:140px}.jB2rPd{padding-top:2px;padding-bottom:8px;}.fYyStc{word-break:break-word}.ynsChf{display:block;white-space:nowrap;overflow:hidden;text-overflow:ellipsis}.Fj3V3b{color:#1967d2;font-size:14px;line-height:20px}.FrIlee{color:#202124;font-size:11px;line-height:16px}.F9iS2e{color:#70757a;font-size:11px;line-height:16px}.WMQ2Le{color:#70757a;font-size:12px;line-height:16px}.x3G5ab{color:#202124;font-size:12px;line-height:16px}.fuLhoc{color:#1967d2;font-size:16px;line-height:20px}.epoveb{font-size:24px;line-height:28px;font-weight:400;color:#202124}.dXDvrc{color:#0d652d;font-size:14px;line-height:20px;word-wrap:break-word}.dloBPe{font-weight:bold}.YVIcad{color:#70757a}.JkVVdd{color:#ea4335}.oXZRFd{color:#ea4335}.MQHtg{color:#fbbc04}.pyMRrb{color:#1e8e3e}.EtTZid{color:#1e8e3e}.M3vVJe{color:#1967d2}.qXLe6d{display:block}.NHQNef{font-style:italic}.Cb8Z7c{white-space:pre}a.ZWRArf{text-decoration:none}a .CVA68e:hover{text-decoration:underline}</style><div class=\"n692Zd\"><div class=\"BnJWBc\"><a class=\"lXLRf\" href=\"/?client=firefox-b-d&amp;bih=927&amp;biw=1920&amp;output=images&amp;ie=UTF-8&amp;tbm=isch&amp;sa=X&amp;ved=0ahUKEwiH8K6Qi8aAAxWjpVYBHQf0BhgQPAgC\"><img alt=\"Google\" class=\"kgJEQe\" src=\"/images/branding/searchlogo/1x/googlelogo_desk_heirloom_color_150x55dp.gif\"/></a></div><div class=\"FbhRzb\"><form action=\"/search\"><input name=\"client\" type=\"hidden\" value=\"firefox-b-d\"/><input name=\"bih\" type=\"hidden\" value=\"927\"/><input name=\"biw\" type=\"hidden\" value=\"1920\"/><input name=\"ie\" type=\"hidden\" value=\"ISO-8859-1\"/><input name=\"tbm\" type=\"hidden\" value=\"isch\"/><input name=\"oq\" type=\"hidden\"/><input name=\"aqs\" type=\"hidden\"/><table class=\"cvifge\"><tr><td class=\"O4cRJf\"><input class=\"MhzMZd\" name=\"q\" type=\"text\" value=\"Thar\"/></td><td class=\"O1ePr\"><input class=\"xB0fq\" type=\"submit\" value=\"Search\"/></td></tr></table></form></div><div class=\"M7pB2\"><table class=\"euZec\"><tbody><tr><td><a class=\"CsQyDc\" href=\"/search?q=Thar&amp;client=firefox-b-d&amp;bih=927&amp;biw=1920&amp;ie=UTF-8&amp;source=lnms&amp;sa=X&amp;ved=0ahUKEwiH8K6Qi8aAAxWjpVYBHQf0BhgQ_AUIBCgA\">ALL</a></td><td class=\"EY24We\"><span class=\"QIqI7\">IMAGES</span></td><td><a class=\"CsQyDc\" href=\"/search?q=Thar&amp;client=firefox-b-d&amp;bih=927&amp;biw=1920&amp;ie=UTF-8&amp;tbm=nws&amp;source=lnms&amp;sa=X&amp;ved=0ahUKEwiH8K6Qi8aAAxWjpVYBHQf0BhgQ_AUIBigC\">NEWS</a></td><td><a class=\"CsQyDc\" href=\"/search?q=Thar&amp;client=firefox-b-d&amp;bih=927&amp;biw=1920&amp;ie=UTF-8&amp;tbm=vid&amp;source=lnms&amp;sa=X&amp;ved=0ahUKEwiH8K6Qi8aAAxWjpVYBHQf0BhgQ_AUIBygD\">VIDEOS</a></td></tr></tbody></table></div></div><div class=\"X6ZCif\"><a class=\"TwVfHd\" href=\"/search?client=firefox-b-d&amp;bih=927&amp;biw=1920&amp;ie=UTF-8&amp;tbm=isch&amp;q=Thar&amp;chips=q:thar,g_1:modified&amp;sa=X&amp;ved=0ahUKEwiH8K6Qi8aAAxWjpVYBHQf0BhgQ4lYICygA\">modified</a><a class=\"TwVfHd\" href=\"/search?client=firefox-b-d&amp;bih=927&amp;biw=1920&amp;ie=UTF-8&amp;tbm=isch&amp;q=Thar&amp;chips=q:thar,g_1:jeep&amp;sa=X&amp;ved=0ahUKEwiH8K6Qi8aAAxWjpVYBHQf0BhgQ4lYIDCgB\">jeep</a><a class=\"TwVfHd\" href=\"/search?client=firefox-b-d&amp;bih=927&amp;biw=1920&amp;ie=UTF-8&amp;tbm=isch&amp;q=Thar&amp;chips=q:thar,g_1:wallpaper&amp;sa=X&amp;ved=0ahUKEwiH8K6Qi8aAAxWjpVYBHQf0BhgQ4lYIDSgC\">wallpaper</a><a class=\"TwVfHd\" href=\"/search?client=firefox-b-d&amp;bih=927&amp;biw=1920&amp;ie=UTF-8&amp;tbm=isch&amp;q=Thar&amp;chips=q:thar,g_1:interior&amp;sa=X&amp;ved=0ahUKEwiH8K6Qi8aAAxWjpVYBHQf0BhgQ4lYIDigD\">interior</a><a class=\"TwVfHd\" href=\"/search?client=firefox-b-d&amp;bih=927&amp;biw=1920&amp;ie=UTF-8&amp;tbm=isch&amp;q=Thar&amp;chips=q:thar,g_1:price&amp;sa=X&amp;ved=0ahUKEwiH8K6Qi8aAAxWjpVYBHQf0BhgQ4lYIDygE\">price</a><a class=\"TwVfHd\" href=\"/search?client=firefox-b-d&amp;bih=927&amp;biw=1920&amp;ie=UTF-8&amp;tbm=isch&amp;q=Thar&amp;chips=q:thar,g_1:off+road&amp;sa=X&amp;ved=0ahUKEwiH8K6Qi8aAAxWjpVYBHQf0BhgQ4lYIECgF\">off road</a><a class=\"TwVfHd\" href=\"/search?client=firefox-b-d&amp;bih=927&amp;biw=1920&amp;ie=UTF-8&amp;tbm=isch&amp;q=Thar&amp;chips=q:thar,g_1:mahindra&amp;sa=X&amp;ved=0ahUKEwiH8K6Qi8aAAxWjpVYBHQf0BhgQ4lYIESgG\">mahindra</a><a class=\"TwVfHd\" href=\"/search?client=firefox-b-d&amp;bih=927&amp;biw=1920&amp;ie=UTF-8&amp;tbm=isch&amp;q=Thar&amp;chips=q:thar,g_1:car&amp;sa=X&amp;ved=0ahUKEwiH8K6Qi8aAAxWjpVYBHQf0BhgQ4lYIEigH\">car</a><a class=\"TwVfHd\" href=\"/search?client=firefox-b-d&amp;bih=927&amp;biw=1920&amp;ie=UTF-8&amp;tbm=isch&amp;q=Thar&amp;chips=q:thar,g_1:classic&amp;sa=X&amp;ved=0ahUKEwiH8K6Qi8aAAxWjpVYBHQf0BhgQ4lYIEygI\">classic</a><a class=\"TwVfHd\" href=\"/search?client=firefox-b-d&amp;bih=927&amp;biw=1920&amp;ie=UTF-8&amp;tbm=isch&amp;q=Thar&amp;chips=q:thar,g_1:new&amp;sa=X&amp;ved=0ahUKEwiH8K6Qi8aAAxWjpVYBHQf0BhgQ4lYIFCgJ\">new</a></div><div><table class=\"GpQGbf\"><tr><td align=\"center\" class=\"e3goi\"><div class=\"mnTahd\"> <div> <div class=\"lIMUZd\"><div><table class=\"IkMU6e\"><tr><td><a href=\"/url?q=https://www.carwale.com/mahindra-cars/thar/&amp;sa=U&amp;ved=2ahUKEwiH8K6Qi8aAAxWjpVYBHQf0BhgQqoUBegQIBBAB&amp;usg=AOvVaw0oWiKNEC9-l9vua7jAp8Vb\"><div class=\"NZWO1b\"><img alt=\"\" class=\"yWs4tf\" src=\"https://encrypted-tbn0.gstatic.com/images?q=tbn:ANd9GcQx-ZZYVP8diDeaTGdeaCJUy3bIIN4iN2G-Z-tev9CzeEcXdn3VBrfvDqyJww&amp;s\"/></div></a></td></tr><tr><td><a href=\"/url?q=https://www.carwale.com/mahindra-cars/thar/&amp;sa=U&amp;ved=2ahUKEwiH8K6Qi8aAAxWjpVYBHQf0BhgQr4kDegQIBBAC&amp;usg=AOvVaw2xAQ2zH_LXk58dPsd_N66U\"><div class=\"jB2rPd\"> <span class=\"qXLe6d x3G5ab\"> <span class=\"fYyStc\">Mahindra Thar Price -...</span> </span> <span class=\"qXLe6d F9iS2e\"> <span class=\"fYyStc\">www.carwale.com</span> </span> </div></a></td></tr></table></div></div> </div> </div></td><td align=\"center\" class=\"e3goi\"><div class=\"mnTahd\"> <div> <div class=\"lIMUZd\"><div><table class=\"IkMU6e\"><tr><td><a href=\"/url?q=https://www.cartrade.com/mahindra-cars/thar/colours/thar-galaxy-grey-8174/&amp;sa=U&amp;ved=2ahUKEwiH8K6Qi8aAAxWjpVYBHQf0BhgQqoUBegQIExAB&amp;usg=AOvVaw3jwEQ59_6oBTbbasG3UeC4\"><div class=\"NZWO1b\"><img alt=\"\" class=\"yWs4tf\" src=\"https://encrypted-tbn0.gstatic.com/images?q=tbn:ANd9GcS27DFMIGljrUwXDKGCjGN4tpvwXei1xT1RMWDIPdl1LTd6OKalAx9RkUguFA&amp;s\"/></div></a></td></tr><tr><td><a href=\"/url?q=https://www.cartrade.com/mahindra-cars/thar/colours/thar-galaxy-grey-8174/&amp;sa=U&amp;ved=2ahUKEwiH8K6Qi8aAAxWjpVYBHQf0BhgQr4kDegQIExAC&amp;usg=AOvVaw1GA5iPbLl05EbRLbS-BqDx\"><div class=\"jB2rPd\"> <span class=\"qXLe6d x3G5ab\"> <span class=\"fYyStc\">Mahindra Thar Galaxy Grey...</span> </span> <span class=\"qXLe6d F9iS2e\"> <span class=\"fYyStc\">www.cartrade.com</span> </span> </div></a></td></tr></table></div></div> </div> </div></td><td align=\"center\" class=\"e3goi\"><div class=\"mnTahd\"> <div> <div class=\"lIMUZd\"><div><table class=\"IkMU6e\"><tr><td><a href=\"/url?q=https://www.autocarindia.com/car-reviews/2020-mahindra-thar-review-test-drive-418335&amp;sa=U&amp;ved=2ahUKEwiH8K6Qi8aAAxWjpVYBHQf0BhgQqoUBegQIEhAB&amp;usg=AOvVaw36BrNPxDWJP7YcD7Q_mneL\"><div class=\"NZWO1b\"><img alt=\"\" class=\"yWs4tf\" src=\"https://encrypted-tbn0.gstatic.com/images?q=tbn:ANd9GcR_mKSDy8zPuwmyMUy3Pwm82sdmuS8w8AnKSQMLjaxgGU-xhJ9IS3Lqq8N9qc4&amp;s\"/></div></a></td></tr><tr><td><a href=\"/url?q=https://www.autocarindia.com/car-reviews/2020-mahindra-thar-review-test-drive-418335&amp;sa=U&amp;ved=2ahUKEwiH8K6Qi8aAAxWjpVYBHQf0BhgQr4kDegQIEhAC&amp;usg=AOvVaw0qg3wlYjqKLIh9_Hbsu_6i\"><div class=\"jB2rPd\"> <span class=\"qXLe6d x3G5ab\"> <span class=\"fYyStc\">All-new Mahindra Thar first...</span> </span> <span class=\"qXLe6d F9iS2e\"> <span class=\"fYyStc\">www.autocarindia.com</span> </span> </div></a></td></tr></table></div></div> </div> </div></td><td align=\"center\" class=\"e3goi\"><div class=\"mnTahd\"> <div> <div class=\"lIMUZd\"><div><table class=\"IkMU6e\"><tr><td><a href=\"/url?q=https://en.wikipedia.org/wiki/Mahindra_Thar&amp;sa=U&amp;ved=2ahUKEwiH8K6Qi8aAAxWjpVYBHQf0BhgQqoUBegQIERAB&amp;usg=AOvVaw3I5O-e47CBNbw2MA8Tar_e\"><div class=\"NZWO1b\"><img alt=\"\" class=\"yWs4tf\" src=\"https://encrypted-tbn0.gstatic.com/images?q=tbn:ANd9GcSZtSkxjFUUZnc7GtfMGFjggzagE5tqNJbooaLAkX8nnKwxkISmo57ehbOjwoc&amp;s\"/></div></a></td></tr><tr><td><a href=\"/url?q=https://en.wikipedia.org/wiki/Mahindra_Thar&amp;sa=U&amp;ved=2ahUKEwiH8K6Qi8aAAxWjpVYBHQf0BhgQr4kDegQIERAC&amp;usg=AOvVaw3P62HuaPKwfMIotQtfV-M_\"><div class=\"jB2rPd\"> <span class=\"qXLe6d x3G5ab\"> <span class=\"fYyStc\">Mahindra Thar - Wikipedia</span> </span> <span class=\"qXLe6d F9iS2e\"> <span class=\"fYyStc\">en.wikipedia.org</span> </span> </div></a></td></tr></table></div></div> </div> </div></td></tr><tr><td align=\"center\" class=\"e3goi\"><div class=\"mnTahd\"> <div> <div class=\"lIMUZd\"><div><table class=\"IkMU6e\"><tr><td><a href=\"/url?q=https://www.cartrade.com/news/mahindra-thar-4x4-range-now-gets-two-new-colour-options/&amp;sa=U&amp;ved=2ahUKEwiH8K6Qi8aAAxWjpVYBHQf0BhgQqoUBegQIDxAB&amp;usg=AOvVaw3NY27ucA1OebRDR2OV6U5x\"><div class=\"NZWO1b\"><img alt=\"\" class=\"yWs4tf\" src=\"https://encrypted-tbn0.gstatic.com/images?q=tbn:ANd9GcRy-RivTAk5fKqufByn3BhK6a9bQVZYRw6e21Ymq4-8Or9jt2sSg_cinj5mZg&amp;s\"/></div></a></td></tr><tr><td><a href=\"/url?q=https://www.cartrade.com/news/mahindra-thar-4x4-range-now-gets-two-new-colour-options/&amp;sa=U&amp;ved=2ahUKEwiH8K6Qi8aAAxWjpVYBHQf0BhgQr4kDegQIDxAC&amp;usg=AOvVaw18dev4IUsTQEWBWLRH4feY\"><div class=\"jB2rPd\"> <span class=\"qXLe6d x3G5ab\"> <span class=\"fYyStc\">Mahindra Thar 4X4 range now...</span> </span> <span class=\"qXLe6d F9iS2e\"> <span class=\"fYyStc\">www.cartrade.com</span> </span> </div></a></td></tr></table></div></div> </div> </div></td><td align=\"center\" class=\"e3goi\"><div class=\"mnTahd\"> <div> <div class=\"lIMUZd\"><div><table class=\"IkMU6e\"><tr><td><a href=\"/url?q=https://www.cartoq.com/court-sentences-mahindra-thar-owner-to-six-months-in-jail-illegal-modifications/&amp;sa=U&amp;ved=2ahUKEwiH8K6Qi8aAAxWjpVYBHQf0BhgQqoUBegQIEBAB&amp;usg=AOvVaw2ohSZ5qOecCedT45uVFeSv\"><div class=\"NZWO1b\"><img alt=\"\" class=\"yWs4tf\" src=\"https://encrypted-tbn0.gstatic.com/images?q=tbn:ANd9GcTeEIryMDr4R1OpCziWpfWukg7zItz8hDPS88CqPNkm44DQN7vGZfJ5LEwoBA&amp;s\"/></div></a></td></tr><tr><td><a href=\"/url?q=https://www.cartoq.com/court-sentences-mahindra-thar-owner-to-six-months-in-jail-illegal-modifications/&amp;sa=U&amp;ved=2ahUKEwiH8K6Qi8aAAxWjpVYBHQf0BhgQr4kDegQIEBAC&amp;usg=AOvVaw2th4GnUm-KYEgMzcX5GBr8\"><div class=\"jB2rPd\"> <span class=\"qXLe6d x3G5ab\"> <span class=\"fYyStc\">Court sentences Mahindra...</span> </span> <span class=\"qXLe6d F9iS2e\"> <span class=\"fYyStc\">www.cartoq.com</span> </span> </div></a></td></tr></table></div></div> </div> </div></td><td align=\"center\" class=\"e3goi\"><div class=\"mnTahd\"> <div> <div class=\"lIMUZd\"><div><table class=\"IkMU6e\"><tr><td><a href=\"/url?q=https://www.cardekho.com/mahindra/thar&amp;sa=U&amp;ved=2ahUKEwiH8K6Qi8aAAxWjpVYBHQf0BhgQqoUBegQIDBAB&amp;usg=AOvVaw3fSPvzScQ5DyVpsvXl2ykr\"><div class=\"NZWO1b\"><img alt=\"\" class=\"yWs4tf\" src=\"https://encrypted-tbn0.gstatic.com/images?q=tbn:ANd9GcQQJ03lpzjvQb-v1UCdIEDt3DIvLP1hZJs0kZFQdiJ88UakpIe8eJP1LW2D_2U&amp;s\"/></div></a></td></tr><tr><td><a href=\"/url?q=https://www.cardekho.com/mahindra/thar&amp;sa=U&amp;ved=2ahUKEwiH8K6Qi8aAAxWjpVYBHQf0BhgQr4kDegQIDBAC&amp;usg=AOvVaw12wqzOhTqIURdHpphfVYxN\"><div class=\"jB2rPd\"> <span class=\"qXLe6d x3G5ab\"> <span class=\"fYyStc\">Mahindra Thar Price 2023...</span> </span> <span class=\"qXLe6d F9iS2e\"> <span class=\"fYyStc\">www.cardekho.com</span> </span> </div></a></td></tr></table></div></div> </div> </div></td><td align=\"center\" class=\"e3goi\"><div class=\"mnTahd\"> <div> <div class=\"lIMUZd\"><div><table class=\"IkMU6e\"><tr><td><a href=\"/url?q=https://www.91wheels.com/cars/mahindra/thar&amp;sa=U&amp;ved=2ahUKEwiH8K6Qi8aAAxWjpVYBHQf0BhgQqoUBegQIDhAB&amp;usg=AOvVaw0rXm15sL_trqv-731X48Fo\"><div class=\"NZWO1b\"><img alt=\"\" class=\"yWs4tf\" src=\"https://encrypted-tbn0.gstatic.com/images?q=tbn:ANd9GcT8w54TnKImE4uTcykB-C8j4HroauzHcC9dfegx-X6yv8ETZe3Yf6LQeGLK5Iw&amp;s\"/></div></a></td></tr><tr><td><a href=\"/url?q=https://www.91wheels.com/cars/mahindra/thar&amp;sa=U&amp;ved=2ahUKEwiH8K6Qi8aAAxWjpVYBHQf0BhgQr4kDegQIDhAC&amp;usg=AOvVaw3iTozn-d4dQNnemlay6jv7\"><div class=\"jB2rPd\"> <span class=\"qXLe6d x3G5ab\"> <span class=\"fYyStc\">Mahindra Thar Price -...</span> </span> <span class=\"qXLe6d F9iS2e\"> <span class=\"fYyStc\">www.91wheels.com</span> </span> </div></a></td></tr></table></div></div> </div> </div></td></tr><tr><td align=\"center\" class=\"e3goi\"><div class=\"mnTahd\"> <div> <div class=\"lIMUZd\"><div><table class=\"IkMU6e\"><tr><td><a href=\"/url?q=https://www.news18.com/news/auto/mahindra-thar-customised-by-dc-is-called-hammer-price-rs-5-95-lakh-onwards-custom-modify-1652013.html&amp;sa=U&amp;ved=2ahUKEwiH8K6Qi8aAAxWjpVYBHQf0BhgQqoUBegQIDRAB&amp;usg=AOvVaw1ireZiAxov7M7nkflbLfHH\"><div class=\"NZWO1b\"><img alt=\"\" class=\"yWs4tf\" src=\"https://encrypted-tbn0.gstatic.com/images?q=tbn:ANd9GcTY7kvSbVdlFXE7fyw3bvPJZhFe-8rHuBjFegjKQwujkQTXoLxk2LBO3EouoYE&amp;s\"/></div></a></td></tr><tr><td><a href=\"/url?q=https://www.news18.com/news/auto/mahindra-thar-customised-by-dc-is-called-hammer-price-rs-5-95-lakh-onwards-custom-modify-1652013.html&amp;sa=U&amp;ved=2ahUKEwiH8K6Qi8aAAxWjpVYBHQf0BhgQr4kDegQIDRAC&amp;usg=AOvVaw0O1zIzQyoBCFjUlmI_4lH9\"><div class=\"jB2rPd\"> <span class=\"qXLe6d x3G5ab\"> <span class=\"fYyStc\">Mahindra Thar Customised by...</span> </span> <span class=\"qXLe6d F9iS2e\"> <span class=\"fYyStc\">www.news18.com</span> </span> </div></a></td></tr></table></div></div> </div> </div></td><td align=\"center\" class=\"e3goi\"><div class=\"mnTahd\"> <div> <div class=\"lIMUZd\"><div><table class=\"IkMU6e\"><tr><td><a href=\"/url?q=https://auto.mahindra.com/suv/thar&amp;sa=U&amp;ved=2ahUKEwiH8K6Qi8aAAxWjpVYBHQf0BhgQqoUBegQICxAB&amp;usg=AOvVaw2p72UAhnBlCohD4pa1wiRQ\"><div class=\"NZWO1b\"><img alt=\"\" class=\"yWs4tf\" src=\"https://encrypted-tbn0.gstatic.com/images?q=tbn:ANd9GcSbJtROzNWYWjnXfJdszhfnl-Ly_bFgl0H0P1W6IDW0Q8yY6nKVU51aTZujngI&amp;s\"/></div></a></td></tr><tr><td><a href=\"/url?q=https://auto.mahindra.com/suv/thar&amp;sa=U&amp;ved=2ahUKEwiH8K6Qi8aAAxWjpVYBHQf0BhgQr4kDegQICxAC&amp;usg=AOvVaw2VX8DzfW9-FJYn804BZIXw\"><div class=\"jB2rPd\"> <span class=\"qXLe6d x3G5ab\"> <span class=\"fYyStc\">New Mahindra Thar SUV -...</span> </span> <span class=\"qXLe6d F9iS2e\"> <span class=\"fYyStc\">auto.mahindra.com</span> </span> </div></a></td></tr></table></div></div> </div> </div></td><td align=\"center\" class=\"e3goi\"><div class=\"mnTahd\"> <div> <div class=\"lIMUZd\"><div><table class=\"IkMU6e\"><tr><td><a href=\"/url?q=https://www.livemint.com/auto-news/mahindra-thar-price-revised-here-are-the-new-prices-11664005569438.html&amp;sa=U&amp;ved=2ahUKEwiH8K6Qi8aAAxWjpVYBHQf0BhgQqoUBegQICRAB&amp;usg=AOvVaw0NWeDRwqxgDufmmszqy8HW\"><div class=\"NZWO1b\"><img alt=\"\" class=\"yWs4tf\" src=\"https://encrypted-tbn0.gstatic.com/images?q=tbn:ANd9GcRtGW0gp4LR5-LqtBKJuuCakT3BPEuLgHa6sIS1MbfYCW86-dhRV2oF3K3C-A&amp;s\"/></div></a></td></tr><tr><td><a href=\"/url?q=https://www.livemint.com/auto-news/mahindra-thar-price-revised-here-are-the-new-prices-11664005569438.html&amp;sa=U&amp;ved=2ahUKEwiH8K6Qi8aAAxWjpVYBHQf0BhgQr4kDegQICRAC&amp;usg=AOvVaw1tP6z9V_L29QAvJjHQQTZe\"><div class=\"jB2rPd\"> <span class=\"qXLe6d x3G5ab\"> <span class=\"fYyStc\">Mahindra Thar price...</span> </span> <span class=\"qXLe6d F9iS2e\"> <span class=\"fYyStc\">www.livemint.com</span> </span> </div></a></td></tr></table></div></div> </div> </div></td><td align=\"center\" class=\"e3goi\"><div class=\"mnTahd\"> <div> <div class=\"lIMUZd\"><div><table class=\"IkMU6e\"><tr><td><a href=\"/url?q=https://www.carwale.com/news/mahindra-thar-4x4-variants-get-two-new-colours/&amp;sa=U&amp;ved=2ahUKEwiH8K6Qi8aAAxWjpVYBHQf0BhgQqoUBegQIChAB&amp;usg=AOvVaw2l05QYrdyQJXiNZ9Y3p4kZ\"><div class=\"NZWO1b\"><img alt=\"\" class=\"yWs4tf\" src=\"https://encrypted-tbn0.gstatic.com/images?q=tbn:ANd9GcScqx6xIppH_QRVCOgqeScsmJHF_vdNPz6CAu5H7ZdS18NmPPIa1ePn0PvdZBo&amp;s\"/></div></a></td></tr><tr><td><a href=\"/url?q=https://www.carwale.com/news/mahindra-thar-4x4-variants-get-two-new-colours/&amp;sa=U&amp;ved=2ahUKEwiH8K6Qi8aAAxWjpVYBHQf0BhgQr4kDegQIChAC&amp;usg=AOvVaw2FLgewt9p1hDz8jLOa5upK\"><div class=\"jB2rPd\"> <span class=\"qXLe6d x3G5ab\"> <span class=\"fYyStc\">Mahindra Thar 4x4 variants...</span> </span> <span class=\"qXLe6d F9iS2e\"> <span class=\"fYyStc\">www.carwale.com</span> </span> </div></a></td></tr></table></div></div> </div> </div></td></tr><tr><td align=\"center\" class=\"e3goi\"><div class=\"mnTahd\"> <div> <div class=\"lIMUZd\"><div><table class=\"IkMU6e\"><tr><td><a href=\"/url?q=https://www.cartoq.com/mahindra-thar-modified-to-mafia-edition/&amp;sa=U&amp;ved=2ahUKEwiH8K6Qi8aAAxWjpVYBHQf0BhgQqoUBegQIABAB&amp;usg=AOvVaw19349OJ5sVUW9bzmwJe0PD\"><div class=\"NZWO1b\"><img alt=\"\" class=\"yWs4tf\" src=\"https://encrypted-tbn0.gstatic.com/images?q=tbn:ANd9GcR0ceBpEsqBAb-MCrRtYtcU6kjH2nhbOM6uOzvEF8hjNxWmNx2yxzIODJgClgM&amp;s\"/></div></a></td></tr><tr><td><a href=\"/url?q=https://www.cartoq.com/mahindra-thar-modified-to-mafia-edition/&amp;sa=U&amp;ved=2ahUKEwiH8K6Qi8aAAxWjpVYBHQf0BhgQr4kDegQIABAC&amp;usg=AOvVaw27hdxIXJIjurBkDRhhk89h\"><div class=\"jB2rPd\"> <span class=\"qXLe6d x3G5ab\"> <span class=\"fYyStc\">Mahindra Thar modified to...</span> </span> <span class=\"qXLe6d F9iS2e\"> <span class=\"fYyStc\">www.cartoq.com</span> </span> </div></a></td></tr></table></div></div> </div> </div></td><td align=\"center\" class=\"e3goi\"><div class=\"mnTahd\"> <div> <div class=\"lIMUZd\"><div><table class=\"IkMU6e\"><tr><td><a href=\"/url?q=https://auto.mahindra.com/suv/thar&amp;sa=U&amp;ved=2ahUKEwiH8K6Qi8aAAxWjpVYBHQf0BhgQqoUBegQIBxAB&amp;usg=AOvVaw1I7A_Xt71X-nT0mJCw6AfT\"><div class=\"NZWO1b\"><img alt=\"\" class=\"yWs4tf\" src=\"https://encrypted-tbn0.gstatic.com/images?q=tbn:ANd9GcRTOo7HhyEvVdcvHkJZLYzNBolcaGYi711J3Aq-wGPN90TZfjqqtx1ppkfNHxE&amp;s\"/></div></a></td></tr><tr><td><a href=\"/url?q=https://auto.mahindra.com/suv/thar&amp;sa=U&amp;ved=2ahUKEwiH8K6Qi8aAAxWjpVYBHQf0BhgQr4kDegQIBxAC&amp;usg=AOvVaw1Hswe63FzMUEDlHzY9yMm3\"><div class=\"jB2rPd\"> <span class=\"qXLe6d x3G5ab\"> <span class=\"fYyStc\">New Mahindra Thar SUV -...</span> </span> <span class=\"qXLe6d F9iS2e\"> <span class=\"fYyStc\">auto.mahindra.com</span> </span> </div></a></td></tr></table></div></div> </div> </div></td><td align=\"center\" class=\"e3goi\"><div class=\"mnTahd\"> <div> <div class=\"lIMUZd\"><div><table class=\"IkMU6e\"><tr><td><a href=\"/url?q=https://www.team-bhp.com/news/aesthetic-functional-modifcations-my-mahindra-thar-lx-mt&amp;sa=U&amp;ved=2ahUKEwiH8K6Qi8aAAxWjpVYBHQf0BhgQqoUBegQIBhAB&amp;usg=AOvVaw3pdvLwA0ZUvRgrmFUYpbk7\"><div class=\"NZWO1b\"><img alt=\"\" class=\"yWs4tf\" src=\"https://encrypted-tbn0.gstatic.com/images?q=tbn:ANd9GcR5Du0ky2qYMnaxZlSPlcNNFWcDnuWlr-qlNvxUgTdik9OCQyKxggANsPANFtk&amp;s\"/></div></a></td></tr><tr><td><a href=\"/url?q=https://www.team-bhp.com/news/aesthetic-functional-modifcations-my-mahindra-thar-lx-mt&amp;sa=U&amp;ved=2ahUKEwiH8K6Qi8aAAxWjpVYBHQf0BhgQr4kDegQIBhAC&amp;usg=AOvVaw3PEloXLv8QlBRXTvxhV95d\"><div class=\"jB2rPd\"> <span class=\"qXLe6d x3G5ab\"> <span class=\"fYyStc\">Aesthetic &amp; functional...</span> </span> <span class=\"qXLe6d F9iS2e\"> <span class=\"fYyStc\">www.team-bhp.com</span> </span> </div></a></td></tr></table></div></div> </div> </div></td><td align=\"center\" class=\"e3goi\"><div class=\"mnTahd\"> <div> <div class=\"lIMUZd\"><div><table class=\"IkMU6e\"><tr><td><a href=\"/url?q=https://www.autocarindia.com/car-reviews/2020-mahindra-thar-review-test-drive-418335&amp;sa=U&amp;ved=2ahUKEwiH8K6Qi8aAAxWjpVYBHQf0BhgQqoUBegQIAhAB&amp;usg=AOvVaw2wxyu0SYPjDCUayVzGL4kW\"><div class=\"NZWO1b\"><img alt=\"\" class=\"yWs4tf\" src=\"https://encrypted-tbn0.gstatic.com/images?q=tbn:ANd9GcRDEqi_aWHjvitlZcAh9vHF0Xm_G7GoV9C3ZEpsST2gZPPuOPJOwL8CYWvh2Fs&amp;s\"/></div></a></td></tr><tr><td><a href=\"/url?q=https://www.autocarindia.com/car-reviews/2020-mahindra-thar-review-test-drive-418335&amp;sa=U&amp;ved=2ahUKEwiH8K6Qi8aAAxWjpVYBHQf0BhgQr4kDegQIAhAC&amp;usg=AOvVaw3cf3h6C3_kRhul6CkN6qfZ\"><div class=\"jB2rPd\"> <span class=\"qXLe6d x3G5ab\"> <span class=\"fYyStc\">All-new Mahindra Thar first...</span> </span> <span class=\"qXLe6d F9iS2e\"> <span class=\"fYyStc\">www.autocarindia.com</span> </span> </div></a></td></tr></table></div></div> </div> </div></td></tr><tr><td align=\"center\" class=\"e3goi\"><div class=\"mnTahd\"> <div> <div class=\"lIMUZd\"><div><table class=\"IkMU6e\"><tr><td><a href=\"/url?q=https://zeenews.india.com/auto/mahindra-thar-modified-with-neon-like-paint-is-aggressive-head-turner-check-pics-2598144.html&amp;sa=U&amp;ved=2ahUKEwiH8K6Qi8aAAxWjpVYBHQf0BhgQqoUBegQIARAB&amp;usg=AOvVaw0fJsud2kQJl5LcUT6tufb5\"><div class=\"NZWO1b\"><img alt=\"\" class=\"yWs4tf\" src=\"https://encrypted-tbn0.gstatic.com/images?q=tbn:ANd9GcQrANdUkQcDPHMNJUYmE6BFDgZGc9RqVyKbIlMpGci6kyHM0VIxtHZf-QOzDA&amp;s\"/></div></a></td></tr><tr><td><a href=\"/url?q=https://zeenews.india.com/auto/mahindra-thar-modified-with-neon-like-paint-is-aggressive-head-turner-check-pics-2598144.html&amp;sa=U&amp;ved=2ahUKEwiH8K6Qi8aAAxWjpVYBHQf0BhgQr4kDegQIARAC&amp;usg=AOvVaw17LaZx1skvoOBOtA7fups8\"><div class=\"jB2rPd\"> <span class=\"qXLe6d x3G5ab\"> <span class=\"fYyStc\">Mahindra Thar Modified With...</span> </span> <span class=\"qXLe6d F9iS2e\"> <span class=\"fYyStc\">zeenews.india.com</span> </span> </div></a></td></tr></table></div></div> </div> </div></td><td align=\"center\" class=\"e3goi\"><div class=\"mnTahd\"> <div> <div class=\"lIMUZd\"><div><table class=\"IkMU6e\"><tr><td><a href=\"/url?q=https://www.facebook.com/MahindraThar/posts/black-and-boldpicture-courtesy-rapidvisions-gear_header-on-instagramexploretheim/10157787412778837/&amp;sa=U&amp;ved=2ahUKEwiH8K6Qi8aAAxWjpVYBHQf0BhgQqoUBegQIBRAB&amp;usg=AOvVaw2oWr8QRmGXVZcYes0veV9y\"><div class=\"NZWO1b\"><img alt=\"\" class=\"yWs4tf\" src=\"https://encrypted-tbn0.gstatic.com/images?q=tbn:ANd9GcTpGMIquHhkGPh2gy1GZ4ZmM_qvgowpKaa8pCLLLcQujV2gWjn2OHFyuI2T9w&amp;s\"/></div></a></td></tr><tr><td><a href=\"/url?q=https://www.facebook.com/MahindraThar/posts/black-and-boldpicture-courtesy-rapidvisions-gear_header-on-instagramexploretheim/10157787412778837/&amp;sa=U&amp;ved=2ahUKEwiH8K6Qi8aAAxWjpVYBHQf0BhgQr4kDegQIBRAC&amp;usg=AOvVaw2HXN2PCYA8sqIZS4tNL79Y\"><div class=\"jB2rPd\"> <span class=\"qXLe6d x3G5ab\"> <span class=\"fYyStc\">Mahindra Thar - Black and...</span> </span> <span class=\"qXLe6d F9iS2e\"> <span class=\"fYyStc\">www.facebook.com</span> </span> </div></a></td></tr></table></div></div> </div> </div></td><td align=\"center\" class=\"e3goi\"><div class=\"mnTahd\"> <div> <div class=\"lIMUZd\"><div><table class=\"IkMU6e\"><tr><td><a href=\"/url?q=https://gaadiwaadi.com/this-custom-mahindra-thar-looks-perfect-for-weekend-safaris/&amp;sa=U&amp;ved=2ahUKEwiH8K6Qi8aAAxWjpVYBHQf0BhgQqoUBegQIAxAB&amp;usg=AOvVaw0weqoncprJnwVlnalNaP98\"><div class=\"NZWO1b\"><img alt=\"\" class=\"yWs4tf\" src=\"https://encrypted-tbn0.gstatic.com/images?q=tbn:ANd9GcSIDaWd23lKxOBvTQPRLiCsvQjg2SKc9bfH3vmJND-C13A8VCZ3Y-PYDORxZn4&amp;s\"/></div></a></td></tr><tr><td><a href=\"/url?q=https://gaadiwaadi.com/this-custom-mahindra-thar-looks-perfect-for-weekend-safaris/&amp;sa=U&amp;ved=2ahUKEwiH8K6Qi8aAAxWjpVYBHQf0BhgQr4kDegQIAxAC&amp;usg=AOvVaw06RARuCmez4wREuHlFZ8zZ\"><div class=\"jB2rPd\"> <span class=\"qXLe6d x3G5ab\"> <span class=\"fYyStc\">This Custom Mahindra Thar...</span> </span> <span class=\"qXLe6d F9iS2e\"> <span class=\"fYyStc\">gaadiwaadi.com</span> </span> </div></a></td></tr></table></div></div> </div> </div></td><td align=\"center\" class=\"e3goi\"><div class=\"mnTahd\"> <div> <div class=\"lIMUZd\"><div><table class=\"IkMU6e\"><tr><td><a href=\"/url?q=https://www.bqprime.com/business/mahindra-drives-in-new-thar-price-starts-at-rs-9-8-lakh&amp;sa=U&amp;ved=2ahUKEwiH8K6Qi8aAAxWjpVYBHQf0BhgQqoUBegQICBAB&amp;usg=AOvVaw341g81FJlcWjTpvL_FZeEd\"><div class=\"NZWO1b\"><img alt=\"\" class=\"yWs4tf\" src=\"https://encrypted-tbn0.gstatic.com/images?q=tbn:ANd9GcQAcacVAC9TvBqhN7NCHO0J2Y_6n1uqjtzL0pvPnOCPneUpn0qiwp4uULZYsA&amp;s\"/></div></a></td></tr><tr><td><a href=\"/url?q=https://www.bqprime.com/business/mahindra-drives-in-new-thar-price-starts-at-rs-9-8-lakh&amp;sa=U&amp;ved=2ahUKEwiH8K6Qi8aAAxWjpVYBHQf0BhgQr4kDegQICBAC&amp;usg=AOvVaw0Pz3YcqvJzFZ8R_zarOH6O\"><div class=\"jB2rPd\"> <span class=\"qXLe6d x3G5ab\"> <span class=\"fYyStc\">Mahindra Launches Sports...</span> </span> <span class=\"qXLe6d F9iS2e\"> <span class=\"fYyStc\">www.bqprime.com</span> </span> </div></a></td></tr></table></div></div> </div> </div></td></tr></table></div><table class=\"uZgmoc\"><tbody><td><a class=\"frGj1b\" href=\"/search?q=Thar&amp;client=firefox-b-d&amp;bih=927&amp;biw=1920&amp;ie=UTF-8&amp;tbm=isch&amp;ei=rYzOZMflA6PL2roPh-ibwAE&amp;start=20&amp;sa=N\">Next &gt;</a></td></tbody></table><br/><div class=\"TuS8Ad\" data-ved=\"0ahUKEwiH8K6Qi8aAAxWjpVYBHQf0BhgQpyoIUg\"><style>.VYM29{font-weight:bold}</style><div align=\"center\" class=\"HddGcc\"><span class=\"VYM29\">834002, Ranchi, Jharkhand</span><span> - </span><span>From your IP address</span><span> - </span><a href=\"/url?q=https://support.google.com/websearch%3Fp%3Dws_settings_location%26hl%3Den-IN&amp;sa=U&amp;ved=0ahUKEwiH8K6Qi8aAAxWjpVYBHQf0BhgQty4IUw&amp;usg=AOvVaw3UTzWldQWros1y8XYBaoe6\">Learn more</a></div><div align=\"center\"><a class=\"rEM8G\" href=\"/url?q=https://accounts.google.com/ServiceLogin%3Fcontinue%3Dhttps://www.google.com/search%253Fq%253DThar%2526tbm%253Disch%2526ved%253D2ahUKEwj77fvny7WAAxU8_zgGHRH1AjQQ2-cCegQIABAA%2526oq%253DJimny%2526gs_lcp%253DCgNpbWcQAzILCAAQgAQQsQMQgwEyCwgAEIAEELEDEIMBMgcIABCKBRBDMgsIABCABBCxAxCDATIHCAAQigUQQzINCAAQigUQsQMQgwEQQzILCAAQgAQQsQMQgwEyBAgAEAMyCwgAEIAEELEDEIMBMgsIABCABBCxAxCDAToICAAQgAQQsQM6BQgAEIAEOggIABCxAxCDAToKCAAQigUQsQMQQ1DTEVjBKGD7K2gAcAB4AIABsgGIAdkHkgEDMC42mAEAoAEBqgELZ3dzLXdpei1pbWfAAQE%2526sclient%253Dimg%2526ei%253DzebFZLvTBbz-4-EPkeqLoAM%2526bih%253D927%2526biw%253D1920%2526client%253Dfirefox-b-d%26hl%3Den&amp;sa=U&amp;ved=0ahUKEwiH8K6Qi8aAAxWjpVYBHQf0BhgQxs8CCFQ&amp;usg=AOvVaw1uzg5ZOhPFa987D4mOKsjh\">Sign in</a></div><div><table class=\"bookcf\"><tbody class=\"InWNIe\"><tr><td><a class=\"rEM8G\" href=\"https://www.google.com/preferences?hl=en&amp;client=firefox-b-d&amp;sa=X&amp;ved=0ahUKEwiH8K6Qi8aAAxWjpVYBHQf0BhgQv5YECFU\">Settings</a></td><td><a class=\"rEM8G\" href=\"https://www.google.com/intl/en_in/policies/privacy/\">Privacy</a></td><td><a class=\"rEM8G\" href=\"https://www.google.com/intl/en_in/policies/terms/\">Terms</a></td></tr></tbody></table></div></div><div> </div></body></html>\n"
     ]
    }
   ],
   "source": [
    "soup = BeautifulSoup(response.content, \"html.parser\")\n",
    "print(soup)"
   ]
  },
  {
   "cell_type": "code",
   "execution_count": 9,
   "metadata": {},
   "outputs": [
    {
     "name": "stdout",
     "output_type": "stream",
     "text": [
      "20\n"
     ]
    },
    {
     "data": {
      "text/plain": [
       "[<img alt=\"\" class=\"yWs4tf\" src=\"https://encrypted-tbn0.gstatic.com/images?q=tbn:ANd9GcQx-ZZYVP8diDeaTGdeaCJUy3bIIN4iN2G-Z-tev9CzeEcXdn3VBrfvDqyJww&amp;s\"/>,\n",
       " <img alt=\"\" class=\"yWs4tf\" src=\"https://encrypted-tbn0.gstatic.com/images?q=tbn:ANd9GcS27DFMIGljrUwXDKGCjGN4tpvwXei1xT1RMWDIPdl1LTd6OKalAx9RkUguFA&amp;s\"/>,\n",
       " <img alt=\"\" class=\"yWs4tf\" src=\"https://encrypted-tbn0.gstatic.com/images?q=tbn:ANd9GcR_mKSDy8zPuwmyMUy3Pwm82sdmuS8w8AnKSQMLjaxgGU-xhJ9IS3Lqq8N9qc4&amp;s\"/>,\n",
       " <img alt=\"\" class=\"yWs4tf\" src=\"https://encrypted-tbn0.gstatic.com/images?q=tbn:ANd9GcSZtSkxjFUUZnc7GtfMGFjggzagE5tqNJbooaLAkX8nnKwxkISmo57ehbOjwoc&amp;s\"/>,\n",
       " <img alt=\"\" class=\"yWs4tf\" src=\"https://encrypted-tbn0.gstatic.com/images?q=tbn:ANd9GcRy-RivTAk5fKqufByn3BhK6a9bQVZYRw6e21Ymq4-8Or9jt2sSg_cinj5mZg&amp;s\"/>,\n",
       " <img alt=\"\" class=\"yWs4tf\" src=\"https://encrypted-tbn0.gstatic.com/images?q=tbn:ANd9GcTeEIryMDr4R1OpCziWpfWukg7zItz8hDPS88CqPNkm44DQN7vGZfJ5LEwoBA&amp;s\"/>,\n",
       " <img alt=\"\" class=\"yWs4tf\" src=\"https://encrypted-tbn0.gstatic.com/images?q=tbn:ANd9GcQQJ03lpzjvQb-v1UCdIEDt3DIvLP1hZJs0kZFQdiJ88UakpIe8eJP1LW2D_2U&amp;s\"/>,\n",
       " <img alt=\"\" class=\"yWs4tf\" src=\"https://encrypted-tbn0.gstatic.com/images?q=tbn:ANd9GcT8w54TnKImE4uTcykB-C8j4HroauzHcC9dfegx-X6yv8ETZe3Yf6LQeGLK5Iw&amp;s\"/>,\n",
       " <img alt=\"\" class=\"yWs4tf\" src=\"https://encrypted-tbn0.gstatic.com/images?q=tbn:ANd9GcTY7kvSbVdlFXE7fyw3bvPJZhFe-8rHuBjFegjKQwujkQTXoLxk2LBO3EouoYE&amp;s\"/>,\n",
       " <img alt=\"\" class=\"yWs4tf\" src=\"https://encrypted-tbn0.gstatic.com/images?q=tbn:ANd9GcSbJtROzNWYWjnXfJdszhfnl-Ly_bFgl0H0P1W6IDW0Q8yY6nKVU51aTZujngI&amp;s\"/>,\n",
       " <img alt=\"\" class=\"yWs4tf\" src=\"https://encrypted-tbn0.gstatic.com/images?q=tbn:ANd9GcRtGW0gp4LR5-LqtBKJuuCakT3BPEuLgHa6sIS1MbfYCW86-dhRV2oF3K3C-A&amp;s\"/>,\n",
       " <img alt=\"\" class=\"yWs4tf\" src=\"https://encrypted-tbn0.gstatic.com/images?q=tbn:ANd9GcScqx6xIppH_QRVCOgqeScsmJHF_vdNPz6CAu5H7ZdS18NmPPIa1ePn0PvdZBo&amp;s\"/>,\n",
       " <img alt=\"\" class=\"yWs4tf\" src=\"https://encrypted-tbn0.gstatic.com/images?q=tbn:ANd9GcR0ceBpEsqBAb-MCrRtYtcU6kjH2nhbOM6uOzvEF8hjNxWmNx2yxzIODJgClgM&amp;s\"/>,\n",
       " <img alt=\"\" class=\"yWs4tf\" src=\"https://encrypted-tbn0.gstatic.com/images?q=tbn:ANd9GcRTOo7HhyEvVdcvHkJZLYzNBolcaGYi711J3Aq-wGPN90TZfjqqtx1ppkfNHxE&amp;s\"/>,\n",
       " <img alt=\"\" class=\"yWs4tf\" src=\"https://encrypted-tbn0.gstatic.com/images?q=tbn:ANd9GcR5Du0ky2qYMnaxZlSPlcNNFWcDnuWlr-qlNvxUgTdik9OCQyKxggANsPANFtk&amp;s\"/>,\n",
       " <img alt=\"\" class=\"yWs4tf\" src=\"https://encrypted-tbn0.gstatic.com/images?q=tbn:ANd9GcRDEqi_aWHjvitlZcAh9vHF0Xm_G7GoV9C3ZEpsST2gZPPuOPJOwL8CYWvh2Fs&amp;s\"/>,\n",
       " <img alt=\"\" class=\"yWs4tf\" src=\"https://encrypted-tbn0.gstatic.com/images?q=tbn:ANd9GcQrANdUkQcDPHMNJUYmE6BFDgZGc9RqVyKbIlMpGci6kyHM0VIxtHZf-QOzDA&amp;s\"/>,\n",
       " <img alt=\"\" class=\"yWs4tf\" src=\"https://encrypted-tbn0.gstatic.com/images?q=tbn:ANd9GcTpGMIquHhkGPh2gy1GZ4ZmM_qvgowpKaa8pCLLLcQujV2gWjn2OHFyuI2T9w&amp;s\"/>,\n",
       " <img alt=\"\" class=\"yWs4tf\" src=\"https://encrypted-tbn0.gstatic.com/images?q=tbn:ANd9GcSIDaWd23lKxOBvTQPRLiCsvQjg2SKc9bfH3vmJND-C13A8VCZ3Y-PYDORxZn4&amp;s\"/>,\n",
       " <img alt=\"\" class=\"yWs4tf\" src=\"https://encrypted-tbn0.gstatic.com/images?q=tbn:ANd9GcQAcacVAC9TvBqhN7NCHO0J2Y_6n1uqjtzL0pvPnOCPneUpn0qiwp4uULZYsA&amp;s\"/>]"
      ]
     },
     "execution_count": 9,
     "metadata": {},
     "output_type": "execute_result"
    }
   ],
   "source": [
    "image_tags = soup.find_all(\"img\")\n",
    "# remove the first item as its a descriptor, not an image\n",
    "del image_tags[0]\n",
    "image_tags\n",
    "print(len(image_tags))\n",
    "image_tags"
   ]
  },
  {
   "cell_type": "code",
   "execution_count": 10,
   "metadata": {},
   "outputs": [
    {
     "name": "stdout",
     "output_type": "stream",
     "text": [
      "Images added.\n",
      "Images added.\n",
      "Images added.\n",
      "Images added.\n",
      "Images added.\n",
      "Images added.\n",
      "Images added.\n",
      "Images added.\n",
      "Images added.\n",
      "Images added.\n",
      "Images added.\n",
      "Images added.\n",
      "Images added.\n",
      "Images added.\n",
      "Images added.\n",
      "Images added.\n",
      "Images added.\n",
      "Images added.\n",
      "Images added.\n",
      "Images added.\n"
     ]
    }
   ],
   "source": [
    "for item in image_tags:\n",
    "    image_src = item[\"src\"]\n",
    "    image_data = requests.get(image_src).content\n",
    "    with open(os.path.join(image_dir, f\"{query}_{image_tags.index(item)}.png\"), \"wb\") as f:\n",
    "        f.write(image_data)\n",
    "        print(\"Images added.\")\n",
    "        "
   ]
  },
  {
   "cell_type": "code",
   "execution_count": null,
   "metadata": {},
   "outputs": [],
   "source": []
  }
 ],
 "metadata": {
  "kernelspec": {
   "display_name": "Python 3",
   "language": "python",
   "name": "python3"
  },
  "language_info": {
   "codemirror_mode": {
    "name": "ipython",
    "version": 3
   },
   "file_extension": ".py",
   "mimetype": "text/x-python",
   "name": "python",
   "nbconvert_exporter": "python",
   "pygments_lexer": "ipython3",
   "version": "3.9.17"
  },
  "orig_nbformat": 4
 },
 "nbformat": 4,
 "nbformat_minor": 2
}
